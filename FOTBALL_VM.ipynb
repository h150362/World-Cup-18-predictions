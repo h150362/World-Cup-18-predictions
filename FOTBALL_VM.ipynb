{
 "cells": [
  {
   "cell_type": "markdown",
   "metadata": {},
   "source": [
    "# 1. Frame the problem and look at the big picture"
   ]
  },
  {
   "cell_type": "markdown",
   "metadata": {},
   "source": [
    "Oppgave: Vi skal lage en modell som skal klare å forutse hvilke lag som får Man of the Match i fotball. \n",
    "\n",
    "Løsning: \n",
    "Vi skal bruke et datasett som handler om sommerens fotball-VM i Russland. Ved hjelp av ulike maskinlærings-algoritmer, skal vi lage den beste modellen som er mulig til å forutse framtidige kamper. Modellene våre skal få en input(Ulike data fra kampene), og dermed gi et output som er kalkulert basert på dataen. Vår modell vil være en \"supervised learning task\" binary classifies, siden vi har fasiten til kampene. "
   ]
  },
  {
   "cell_type": "markdown",
   "metadata": {},
   "source": [
    "# Setup"
   ]
  },
  {
   "cell_type": "code",
   "execution_count": 1,
   "metadata": {},
   "outputs": [],
   "source": [
    "# To support both python 2 and python 3\n",
    "from __future__ import division, print_function, unicode_literals\n",
    "\n",
    "# Common imports\n",
    "import numpy as np\n",
    "import os\n",
    "\n",
    "# to make this notebook's output stable across runs\n",
    "np.random.seed(21)\n",
    "\n",
    "# To plot pretty figures\n",
    "%matplotlib inline\n",
    "import matplotlib\n",
    "import matplotlib.pyplot as plt\n",
    "plt.rcParams['axes.labelsize'] = 14\n",
    "plt.rcParams['xtick.labelsize'] = 12\n",
    "plt.rcParams['ytick.labelsize'] = 12\n",
    "\n",
    "\n",
    "\n",
    "# Ignore useless warnings (see SciPy issue #5998)\n",
    "import warnings\n",
    "warnings.filterwarnings(action=\"ignore\", message=\"^internal gelsd\")"
   ]
  },
  {
   "cell_type": "markdown",
   "metadata": {},
   "source": [
    "# 2. Get the data"
   ]
  },
  {
   "cell_type": "markdown",
   "metadata": {},
   "source": [
    "Vi importerer statistikken frå 2018 VM."
   ]
  },
  {
   "cell_type": "code",
   "execution_count": 2,
   "metadata": {},
   "outputs": [],
   "source": [
    "import os\n",
    "import tarfile\n",
    "from six.moves import urllib\n",
    "import pandas as pd\n",
    "import seaborn as sns\n",
    "import csv\n"
   ]
  },
  {
   "cell_type": "code",
   "execution_count": 3,
   "metadata": {},
   "outputs": [],
   "source": [
    "data = pd.read_csv(\"FIFA 2018 Statistics.csv\")"
   ]
  },
  {
   "cell_type": "markdown",
   "metadata": {},
   "source": [
    "# Explore the data to gain insights"
   ]
  },
  {
   "cell_type": "markdown",
   "metadata": {},
   "source": [
    "For å få et innblikk i hvilken data vi har med å gjøre, så har vi ulike framstillinger av data-settet. "
   ]
  },
  {
   "cell_type": "code",
   "execution_count": 4,
   "metadata": {},
   "outputs": [
    {
     "data": {
      "text/html": [
       "<div>\n",
       "<style scoped>\n",
       "    .dataframe tbody tr th:only-of-type {\n",
       "        vertical-align: middle;\n",
       "    }\n",
       "\n",
       "    .dataframe tbody tr th {\n",
       "        vertical-align: top;\n",
       "    }\n",
       "\n",
       "    .dataframe thead th {\n",
       "        text-align: right;\n",
       "    }\n",
       "</style>\n",
       "<table border=\"1\" class=\"dataframe\">\n",
       "  <thead>\n",
       "    <tr style=\"text-align: right;\">\n",
       "      <th></th>\n",
       "      <th>Date</th>\n",
       "      <th>Team</th>\n",
       "      <th>Opponent</th>\n",
       "      <th>Goal Scored</th>\n",
       "      <th>Ball Possession %</th>\n",
       "      <th>Attempts</th>\n",
       "      <th>On-Target</th>\n",
       "      <th>Off-Target</th>\n",
       "      <th>Blocked</th>\n",
       "      <th>Corners</th>\n",
       "      <th>...</th>\n",
       "      <th>Yellow Card</th>\n",
       "      <th>Yellow &amp; Red</th>\n",
       "      <th>Red</th>\n",
       "      <th>Man of the Match</th>\n",
       "      <th>1st Goal</th>\n",
       "      <th>Round</th>\n",
       "      <th>PSO</th>\n",
       "      <th>Goals in PSO</th>\n",
       "      <th>Own goals</th>\n",
       "      <th>Own goal Time</th>\n",
       "    </tr>\n",
       "  </thead>\n",
       "  <tbody>\n",
       "    <tr>\n",
       "      <th>0</th>\n",
       "      <td>14-06-2018</td>\n",
       "      <td>Russia</td>\n",
       "      <td>Saudi Arabia</td>\n",
       "      <td>5</td>\n",
       "      <td>40</td>\n",
       "      <td>13</td>\n",
       "      <td>7</td>\n",
       "      <td>3</td>\n",
       "      <td>3</td>\n",
       "      <td>6</td>\n",
       "      <td>...</td>\n",
       "      <td>0</td>\n",
       "      <td>0</td>\n",
       "      <td>0</td>\n",
       "      <td>Yes</td>\n",
       "      <td>12.0</td>\n",
       "      <td>Group Stage</td>\n",
       "      <td>No</td>\n",
       "      <td>0</td>\n",
       "      <td>NaN</td>\n",
       "      <td>NaN</td>\n",
       "    </tr>\n",
       "    <tr>\n",
       "      <th>1</th>\n",
       "      <td>14-06-2018</td>\n",
       "      <td>Saudi Arabia</td>\n",
       "      <td>Russia</td>\n",
       "      <td>0</td>\n",
       "      <td>60</td>\n",
       "      <td>6</td>\n",
       "      <td>0</td>\n",
       "      <td>3</td>\n",
       "      <td>3</td>\n",
       "      <td>2</td>\n",
       "      <td>...</td>\n",
       "      <td>0</td>\n",
       "      <td>0</td>\n",
       "      <td>0</td>\n",
       "      <td>No</td>\n",
       "      <td>NaN</td>\n",
       "      <td>Group Stage</td>\n",
       "      <td>No</td>\n",
       "      <td>0</td>\n",
       "      <td>NaN</td>\n",
       "      <td>NaN</td>\n",
       "    </tr>\n",
       "    <tr>\n",
       "      <th>2</th>\n",
       "      <td>15-06-2018</td>\n",
       "      <td>Egypt</td>\n",
       "      <td>Uruguay</td>\n",
       "      <td>0</td>\n",
       "      <td>43</td>\n",
       "      <td>8</td>\n",
       "      <td>3</td>\n",
       "      <td>3</td>\n",
       "      <td>2</td>\n",
       "      <td>0</td>\n",
       "      <td>...</td>\n",
       "      <td>2</td>\n",
       "      <td>0</td>\n",
       "      <td>0</td>\n",
       "      <td>No</td>\n",
       "      <td>NaN</td>\n",
       "      <td>Group Stage</td>\n",
       "      <td>No</td>\n",
       "      <td>0</td>\n",
       "      <td>NaN</td>\n",
       "      <td>NaN</td>\n",
       "    </tr>\n",
       "    <tr>\n",
       "      <th>3</th>\n",
       "      <td>15-06-2018</td>\n",
       "      <td>Uruguay</td>\n",
       "      <td>Egypt</td>\n",
       "      <td>1</td>\n",
       "      <td>57</td>\n",
       "      <td>14</td>\n",
       "      <td>4</td>\n",
       "      <td>6</td>\n",
       "      <td>4</td>\n",
       "      <td>5</td>\n",
       "      <td>...</td>\n",
       "      <td>0</td>\n",
       "      <td>0</td>\n",
       "      <td>0</td>\n",
       "      <td>Yes</td>\n",
       "      <td>89.0</td>\n",
       "      <td>Group Stage</td>\n",
       "      <td>No</td>\n",
       "      <td>0</td>\n",
       "      <td>NaN</td>\n",
       "      <td>NaN</td>\n",
       "    </tr>\n",
       "    <tr>\n",
       "      <th>4</th>\n",
       "      <td>15-06-2018</td>\n",
       "      <td>Morocco</td>\n",
       "      <td>Iran</td>\n",
       "      <td>0</td>\n",
       "      <td>64</td>\n",
       "      <td>13</td>\n",
       "      <td>3</td>\n",
       "      <td>6</td>\n",
       "      <td>4</td>\n",
       "      <td>5</td>\n",
       "      <td>...</td>\n",
       "      <td>1</td>\n",
       "      <td>0</td>\n",
       "      <td>0</td>\n",
       "      <td>No</td>\n",
       "      <td>NaN</td>\n",
       "      <td>Group Stage</td>\n",
       "      <td>No</td>\n",
       "      <td>0</td>\n",
       "      <td>1.0</td>\n",
       "      <td>90.0</td>\n",
       "    </tr>\n",
       "  </tbody>\n",
       "</table>\n",
       "<p>5 rows × 27 columns</p>\n",
       "</div>"
      ],
      "text/plain": [
       "         Date          Team      Opponent  Goal Scored  Ball Possession %  \\\n",
       "0  14-06-2018        Russia  Saudi Arabia            5                 40   \n",
       "1  14-06-2018  Saudi Arabia        Russia            0                 60   \n",
       "2  15-06-2018         Egypt       Uruguay            0                 43   \n",
       "3  15-06-2018       Uruguay         Egypt            1                 57   \n",
       "4  15-06-2018       Morocco          Iran            0                 64   \n",
       "\n",
       "   Attempts  On-Target  Off-Target  Blocked  Corners      ...        \\\n",
       "0        13          7           3        3        6      ...         \n",
       "1         6          0           3        3        2      ...         \n",
       "2         8          3           3        2        0      ...         \n",
       "3        14          4           6        4        5      ...         \n",
       "4        13          3           6        4        5      ...         \n",
       "\n",
       "   Yellow Card  Yellow & Red  Red  Man of the Match  1st Goal        Round  \\\n",
       "0            0             0    0               Yes      12.0  Group Stage   \n",
       "1            0             0    0                No       NaN  Group Stage   \n",
       "2            2             0    0                No       NaN  Group Stage   \n",
       "3            0             0    0               Yes      89.0  Group Stage   \n",
       "4            1             0    0                No       NaN  Group Stage   \n",
       "\n",
       "   PSO  Goals in PSO  Own goals  Own goal Time  \n",
       "0   No             0        NaN            NaN  \n",
       "1   No             0        NaN            NaN  \n",
       "2   No             0        NaN            NaN  \n",
       "3   No             0        NaN            NaN  \n",
       "4   No             0        1.0           90.0  \n",
       "\n",
       "[5 rows x 27 columns]"
      ]
     },
     "execution_count": 4,
     "metadata": {},
     "output_type": "execute_result"
    }
   ],
   "source": [
    "data.head()"
   ]
  },
  {
   "cell_type": "code",
   "execution_count": 5,
   "metadata": {},
   "outputs": [
    {
     "name": "stdout",
     "output_type": "stream",
     "text": [
      "<class 'pandas.core.frame.DataFrame'>\n",
      "RangeIndex: 128 entries, 0 to 127\n",
      "Data columns (total 27 columns):\n",
      "Date                      128 non-null object\n",
      "Team                      128 non-null object\n",
      "Opponent                  128 non-null object\n",
      "Goal Scored               128 non-null int64\n",
      "Ball Possession %         128 non-null int64\n",
      "Attempts                  128 non-null int64\n",
      "On-Target                 128 non-null int64\n",
      "Off-Target                128 non-null int64\n",
      "Blocked                   128 non-null int64\n",
      "Corners                   128 non-null int64\n",
      "Offsides                  128 non-null int64\n",
      "Free Kicks                128 non-null int64\n",
      "Saves                     128 non-null int64\n",
      "Pass Accuracy %           128 non-null int64\n",
      "Passes                    128 non-null int64\n",
      "Distance Covered (Kms)    128 non-null int64\n",
      "Fouls Committed           128 non-null int64\n",
      "Yellow Card               128 non-null int64\n",
      "Yellow & Red              128 non-null int64\n",
      "Red                       128 non-null int64\n",
      "Man of the Match          128 non-null object\n",
      "1st Goal                  94 non-null float64\n",
      "Round                     128 non-null object\n",
      "PSO                       128 non-null object\n",
      "Goals in PSO              128 non-null int64\n",
      "Own goals                 12 non-null float64\n",
      "Own goal Time             12 non-null float64\n",
      "dtypes: float64(3), int64(18), object(6)\n",
      "memory usage: 27.1+ KB\n"
     ]
    }
   ],
   "source": [
    "data.info()"
   ]
  },
  {
   "cell_type": "markdown",
   "metadata": {},
   "source": [
    "Her ser vi at noen av attributtene er object, og dette må vi gjøre noe med. Man of the Match-attributten må vi se nærmere på."
   ]
  },
  {
   "cell_type": "code",
   "execution_count": 6,
   "metadata": {},
   "outputs": [
    {
     "data": {
      "text/plain": [
       "Yes    64\n",
       "No     64\n",
       "Name: Man of the Match, dtype: int64"
      ]
     },
     "execution_count": 6,
     "metadata": {},
     "output_type": "execute_result"
    }
   ],
   "source": [
    "data[\"Man of the Match\"].value_counts()"
   ]
  },
  {
   "cell_type": "code",
   "execution_count": 7,
   "metadata": {},
   "outputs": [
    {
     "data": {
      "text/html": [
       "<div>\n",
       "<style scoped>\n",
       "    .dataframe tbody tr th:only-of-type {\n",
       "        vertical-align: middle;\n",
       "    }\n",
       "\n",
       "    .dataframe tbody tr th {\n",
       "        vertical-align: top;\n",
       "    }\n",
       "\n",
       "    .dataframe thead th {\n",
       "        text-align: right;\n",
       "    }\n",
       "</style>\n",
       "<table border=\"1\" class=\"dataframe\">\n",
       "  <thead>\n",
       "    <tr style=\"text-align: right;\">\n",
       "      <th></th>\n",
       "      <th>Goal Scored</th>\n",
       "      <th>Ball Possession %</th>\n",
       "      <th>Attempts</th>\n",
       "      <th>On-Target</th>\n",
       "      <th>Off-Target</th>\n",
       "      <th>Blocked</th>\n",
       "      <th>Corners</th>\n",
       "      <th>Offsides</th>\n",
       "      <th>Free Kicks</th>\n",
       "      <th>Saves</th>\n",
       "      <th>...</th>\n",
       "      <th>Passes</th>\n",
       "      <th>Distance Covered (Kms)</th>\n",
       "      <th>Fouls Committed</th>\n",
       "      <th>Yellow Card</th>\n",
       "      <th>Yellow &amp; Red</th>\n",
       "      <th>Red</th>\n",
       "      <th>1st Goal</th>\n",
       "      <th>Goals in PSO</th>\n",
       "      <th>Own goals</th>\n",
       "      <th>Own goal Time</th>\n",
       "    </tr>\n",
       "  </thead>\n",
       "  <tbody>\n",
       "    <tr>\n",
       "      <th>count</th>\n",
       "      <td>128.000000</td>\n",
       "      <td>128.000000</td>\n",
       "      <td>128.000000</td>\n",
       "      <td>128.000000</td>\n",
       "      <td>128.000000</td>\n",
       "      <td>128.000000</td>\n",
       "      <td>128.000000</td>\n",
       "      <td>128.000000</td>\n",
       "      <td>128.000000</td>\n",
       "      <td>128.000000</td>\n",
       "      <td>...</td>\n",
       "      <td>128.000000</td>\n",
       "      <td>128.000000</td>\n",
       "      <td>128.000000</td>\n",
       "      <td>128.000000</td>\n",
       "      <td>128.000000</td>\n",
       "      <td>128.000000</td>\n",
       "      <td>94.000000</td>\n",
       "      <td>128.000000</td>\n",
       "      <td>12.0</td>\n",
       "      <td>12.000000</td>\n",
       "    </tr>\n",
       "    <tr>\n",
       "      <th>mean</th>\n",
       "      <td>1.320312</td>\n",
       "      <td>49.992188</td>\n",
       "      <td>12.593750</td>\n",
       "      <td>3.914062</td>\n",
       "      <td>5.273438</td>\n",
       "      <td>3.359375</td>\n",
       "      <td>4.718750</td>\n",
       "      <td>1.343750</td>\n",
       "      <td>14.890625</td>\n",
       "      <td>2.726562</td>\n",
       "      <td>...</td>\n",
       "      <td>462.648438</td>\n",
       "      <td>106.664062</td>\n",
       "      <td>13.546875</td>\n",
       "      <td>1.695312</td>\n",
       "      <td>0.015625</td>\n",
       "      <td>0.015625</td>\n",
       "      <td>39.457447</td>\n",
       "      <td>0.203125</td>\n",
       "      <td>1.0</td>\n",
       "      <td>45.833333</td>\n",
       "    </tr>\n",
       "    <tr>\n",
       "      <th>std</th>\n",
       "      <td>1.156519</td>\n",
       "      <td>10.444074</td>\n",
       "      <td>5.245827</td>\n",
       "      <td>2.234403</td>\n",
       "      <td>2.409675</td>\n",
       "      <td>2.403195</td>\n",
       "      <td>2.446072</td>\n",
       "      <td>1.193404</td>\n",
       "      <td>4.724262</td>\n",
       "      <td>2.049447</td>\n",
       "      <td>...</td>\n",
       "      <td>151.186311</td>\n",
       "      <td>11.749537</td>\n",
       "      <td>4.619131</td>\n",
       "      <td>1.325454</td>\n",
       "      <td>0.124507</td>\n",
       "      <td>0.124507</td>\n",
       "      <td>24.496506</td>\n",
       "      <td>0.807049</td>\n",
       "      <td>0.0</td>\n",
       "      <td>29.978275</td>\n",
       "    </tr>\n",
       "    <tr>\n",
       "      <th>min</th>\n",
       "      <td>0.000000</td>\n",
       "      <td>25.000000</td>\n",
       "      <td>3.000000</td>\n",
       "      <td>0.000000</td>\n",
       "      <td>1.000000</td>\n",
       "      <td>0.000000</td>\n",
       "      <td>0.000000</td>\n",
       "      <td>0.000000</td>\n",
       "      <td>5.000000</td>\n",
       "      <td>0.000000</td>\n",
       "      <td>...</td>\n",
       "      <td>189.000000</td>\n",
       "      <td>80.000000</td>\n",
       "      <td>5.000000</td>\n",
       "      <td>0.000000</td>\n",
       "      <td>0.000000</td>\n",
       "      <td>0.000000</td>\n",
       "      <td>1.000000</td>\n",
       "      <td>0.000000</td>\n",
       "      <td>1.0</td>\n",
       "      <td>12.000000</td>\n",
       "    </tr>\n",
       "    <tr>\n",
       "      <th>25%</th>\n",
       "      <td>0.000000</td>\n",
       "      <td>42.000000</td>\n",
       "      <td>9.000000</td>\n",
       "      <td>2.000000</td>\n",
       "      <td>4.000000</td>\n",
       "      <td>1.750000</td>\n",
       "      <td>3.000000</td>\n",
       "      <td>0.000000</td>\n",
       "      <td>11.000000</td>\n",
       "      <td>1.000000</td>\n",
       "      <td>...</td>\n",
       "      <td>351.000000</td>\n",
       "      <td>101.000000</td>\n",
       "      <td>10.000000</td>\n",
       "      <td>1.000000</td>\n",
       "      <td>0.000000</td>\n",
       "      <td>0.000000</td>\n",
       "      <td>18.250000</td>\n",
       "      <td>0.000000</td>\n",
       "      <td>1.0</td>\n",
       "      <td>21.750000</td>\n",
       "    </tr>\n",
       "    <tr>\n",
       "      <th>50%</th>\n",
       "      <td>1.000000</td>\n",
       "      <td>50.000000</td>\n",
       "      <td>12.000000</td>\n",
       "      <td>3.500000</td>\n",
       "      <td>5.000000</td>\n",
       "      <td>3.000000</td>\n",
       "      <td>5.000000</td>\n",
       "      <td>1.000000</td>\n",
       "      <td>15.000000</td>\n",
       "      <td>2.000000</td>\n",
       "      <td>...</td>\n",
       "      <td>462.000000</td>\n",
       "      <td>104.500000</td>\n",
       "      <td>13.000000</td>\n",
       "      <td>2.000000</td>\n",
       "      <td>0.000000</td>\n",
       "      <td>0.000000</td>\n",
       "      <td>39.000000</td>\n",
       "      <td>0.000000</td>\n",
       "      <td>1.0</td>\n",
       "      <td>35.000000</td>\n",
       "    </tr>\n",
       "    <tr>\n",
       "      <th>75%</th>\n",
       "      <td>2.000000</td>\n",
       "      <td>58.000000</td>\n",
       "      <td>15.000000</td>\n",
       "      <td>5.000000</td>\n",
       "      <td>7.000000</td>\n",
       "      <td>4.000000</td>\n",
       "      <td>6.000000</td>\n",
       "      <td>2.000000</td>\n",
       "      <td>18.000000</td>\n",
       "      <td>4.000000</td>\n",
       "      <td>...</td>\n",
       "      <td>555.250000</td>\n",
       "      <td>109.000000</td>\n",
       "      <td>16.000000</td>\n",
       "      <td>2.000000</td>\n",
       "      <td>0.000000</td>\n",
       "      <td>0.000000</td>\n",
       "      <td>54.750000</td>\n",
       "      <td>0.000000</td>\n",
       "      <td>1.0</td>\n",
       "      <td>75.750000</td>\n",
       "    </tr>\n",
       "    <tr>\n",
       "      <th>max</th>\n",
       "      <td>6.000000</td>\n",
       "      <td>75.000000</td>\n",
       "      <td>26.000000</td>\n",
       "      <td>12.000000</td>\n",
       "      <td>11.000000</td>\n",
       "      <td>10.000000</td>\n",
       "      <td>11.000000</td>\n",
       "      <td>5.000000</td>\n",
       "      <td>26.000000</td>\n",
       "      <td>9.000000</td>\n",
       "      <td>...</td>\n",
       "      <td>1137.000000</td>\n",
       "      <td>148.000000</td>\n",
       "      <td>25.000000</td>\n",
       "      <td>6.000000</td>\n",
       "      <td>1.000000</td>\n",
       "      <td>1.000000</td>\n",
       "      <td>90.000000</td>\n",
       "      <td>4.000000</td>\n",
       "      <td>1.0</td>\n",
       "      <td>90.000000</td>\n",
       "    </tr>\n",
       "  </tbody>\n",
       "</table>\n",
       "<p>8 rows × 21 columns</p>\n",
       "</div>"
      ],
      "text/plain": [
       "       Goal Scored  Ball Possession %    Attempts   On-Target  Off-Target  \\\n",
       "count   128.000000         128.000000  128.000000  128.000000  128.000000   \n",
       "mean      1.320312          49.992188   12.593750    3.914062    5.273438   \n",
       "std       1.156519          10.444074    5.245827    2.234403    2.409675   \n",
       "min       0.000000          25.000000    3.000000    0.000000    1.000000   \n",
       "25%       0.000000          42.000000    9.000000    2.000000    4.000000   \n",
       "50%       1.000000          50.000000   12.000000    3.500000    5.000000   \n",
       "75%       2.000000          58.000000   15.000000    5.000000    7.000000   \n",
       "max       6.000000          75.000000   26.000000   12.000000   11.000000   \n",
       "\n",
       "          Blocked     Corners    Offsides  Free Kicks       Saves  \\\n",
       "count  128.000000  128.000000  128.000000  128.000000  128.000000   \n",
       "mean     3.359375    4.718750    1.343750   14.890625    2.726562   \n",
       "std      2.403195    2.446072    1.193404    4.724262    2.049447   \n",
       "min      0.000000    0.000000    0.000000    5.000000    0.000000   \n",
       "25%      1.750000    3.000000    0.000000   11.000000    1.000000   \n",
       "50%      3.000000    5.000000    1.000000   15.000000    2.000000   \n",
       "75%      4.000000    6.000000    2.000000   18.000000    4.000000   \n",
       "max     10.000000   11.000000    5.000000   26.000000    9.000000   \n",
       "\n",
       "           ...             Passes  Distance Covered (Kms)  Fouls Committed  \\\n",
       "count      ...         128.000000              128.000000       128.000000   \n",
       "mean       ...         462.648438              106.664062        13.546875   \n",
       "std        ...         151.186311               11.749537         4.619131   \n",
       "min        ...         189.000000               80.000000         5.000000   \n",
       "25%        ...         351.000000              101.000000        10.000000   \n",
       "50%        ...         462.000000              104.500000        13.000000   \n",
       "75%        ...         555.250000              109.000000        16.000000   \n",
       "max        ...        1137.000000              148.000000        25.000000   \n",
       "\n",
       "       Yellow Card  Yellow & Red         Red   1st Goal  Goals in PSO  \\\n",
       "count   128.000000    128.000000  128.000000  94.000000    128.000000   \n",
       "mean      1.695312      0.015625    0.015625  39.457447      0.203125   \n",
       "std       1.325454      0.124507    0.124507  24.496506      0.807049   \n",
       "min       0.000000      0.000000    0.000000   1.000000      0.000000   \n",
       "25%       1.000000      0.000000    0.000000  18.250000      0.000000   \n",
       "50%       2.000000      0.000000    0.000000  39.000000      0.000000   \n",
       "75%       2.000000      0.000000    0.000000  54.750000      0.000000   \n",
       "max       6.000000      1.000000    1.000000  90.000000      4.000000   \n",
       "\n",
       "       Own goals  Own goal Time  \n",
       "count       12.0      12.000000  \n",
       "mean         1.0      45.833333  \n",
       "std          0.0      29.978275  \n",
       "min          1.0      12.000000  \n",
       "25%          1.0      21.750000  \n",
       "50%          1.0      35.000000  \n",
       "75%          1.0      75.750000  \n",
       "max          1.0      90.000000  \n",
       "\n",
       "[8 rows x 21 columns]"
      ]
     },
     "execution_count": 7,
     "metadata": {},
     "output_type": "execute_result"
    }
   ],
   "source": [
    "data.describe()"
   ]
  },
  {
   "cell_type": "code",
   "execution_count": 8,
   "metadata": {},
   "outputs": [
    {
     "data": {
      "text/html": [
       "<div>\n",
       "<style scoped>\n",
       "    .dataframe tbody tr th:only-of-type {\n",
       "        vertical-align: middle;\n",
       "    }\n",
       "\n",
       "    .dataframe tbody tr th {\n",
       "        vertical-align: top;\n",
       "    }\n",
       "\n",
       "    .dataframe thead th {\n",
       "        text-align: right;\n",
       "    }\n",
       "</style>\n",
       "<table border=\"1\" class=\"dataframe\">\n",
       "  <thead>\n",
       "    <tr style=\"text-align: right;\">\n",
       "      <th></th>\n",
       "      <th>Missing values</th>\n",
       "      <th>% Missing</th>\n",
       "    </tr>\n",
       "  </thead>\n",
       "  <tbody>\n",
       "    <tr>\n",
       "      <th>Own goal Time</th>\n",
       "      <td>116</td>\n",
       "      <td>90.6250</td>\n",
       "    </tr>\n",
       "    <tr>\n",
       "      <th>Own goals</th>\n",
       "      <td>116</td>\n",
       "      <td>90.6250</td>\n",
       "    </tr>\n",
       "    <tr>\n",
       "      <th>1st Goal</th>\n",
       "      <td>34</td>\n",
       "      <td>26.5625</td>\n",
       "    </tr>\n",
       "    <tr>\n",
       "      <th>Free Kicks</th>\n",
       "      <td>0</td>\n",
       "      <td>0.0000</td>\n",
       "    </tr>\n",
       "    <tr>\n",
       "      <th>Team</th>\n",
       "      <td>0</td>\n",
       "      <td>0.0000</td>\n",
       "    </tr>\n",
       "    <tr>\n",
       "      <th>Opponent</th>\n",
       "      <td>0</td>\n",
       "      <td>0.0000</td>\n",
       "    </tr>\n",
       "    <tr>\n",
       "      <th>Goal Scored</th>\n",
       "      <td>0</td>\n",
       "      <td>0.0000</td>\n",
       "    </tr>\n",
       "    <tr>\n",
       "      <th>Ball Possession %</th>\n",
       "      <td>0</td>\n",
       "      <td>0.0000</td>\n",
       "    </tr>\n",
       "    <tr>\n",
       "      <th>Attempts</th>\n",
       "      <td>0</td>\n",
       "      <td>0.0000</td>\n",
       "    </tr>\n",
       "    <tr>\n",
       "      <th>On-Target</th>\n",
       "      <td>0</td>\n",
       "      <td>0.0000</td>\n",
       "    </tr>\n",
       "    <tr>\n",
       "      <th>Off-Target</th>\n",
       "      <td>0</td>\n",
       "      <td>0.0000</td>\n",
       "    </tr>\n",
       "    <tr>\n",
       "      <th>Blocked</th>\n",
       "      <td>0</td>\n",
       "      <td>0.0000</td>\n",
       "    </tr>\n",
       "    <tr>\n",
       "      <th>Corners</th>\n",
       "      <td>0</td>\n",
       "      <td>0.0000</td>\n",
       "    </tr>\n",
       "    <tr>\n",
       "      <th>Offsides</th>\n",
       "      <td>0</td>\n",
       "      <td>0.0000</td>\n",
       "    </tr>\n",
       "    <tr>\n",
       "      <th>Pass Accuracy %</th>\n",
       "      <td>0</td>\n",
       "      <td>0.0000</td>\n",
       "    </tr>\n",
       "    <tr>\n",
       "      <th>Saves</th>\n",
       "      <td>0</td>\n",
       "      <td>0.0000</td>\n",
       "    </tr>\n",
       "    <tr>\n",
       "      <th>Passes</th>\n",
       "      <td>0</td>\n",
       "      <td>0.0000</td>\n",
       "    </tr>\n",
       "    <tr>\n",
       "      <th>Distance Covered (Kms)</th>\n",
       "      <td>0</td>\n",
       "      <td>0.0000</td>\n",
       "    </tr>\n",
       "    <tr>\n",
       "      <th>Fouls Committed</th>\n",
       "      <td>0</td>\n",
       "      <td>0.0000</td>\n",
       "    </tr>\n",
       "    <tr>\n",
       "      <th>Yellow Card</th>\n",
       "      <td>0</td>\n",
       "      <td>0.0000</td>\n",
       "    </tr>\n",
       "    <tr>\n",
       "      <th>Yellow &amp; Red</th>\n",
       "      <td>0</td>\n",
       "      <td>0.0000</td>\n",
       "    </tr>\n",
       "    <tr>\n",
       "      <th>Red</th>\n",
       "      <td>0</td>\n",
       "      <td>0.0000</td>\n",
       "    </tr>\n",
       "    <tr>\n",
       "      <th>Man of the Match</th>\n",
       "      <td>0</td>\n",
       "      <td>0.0000</td>\n",
       "    </tr>\n",
       "    <tr>\n",
       "      <th>Round</th>\n",
       "      <td>0</td>\n",
       "      <td>0.0000</td>\n",
       "    </tr>\n",
       "    <tr>\n",
       "      <th>PSO</th>\n",
       "      <td>0</td>\n",
       "      <td>0.0000</td>\n",
       "    </tr>\n",
       "    <tr>\n",
       "      <th>Goals in PSO</th>\n",
       "      <td>0</td>\n",
       "      <td>0.0000</td>\n",
       "    </tr>\n",
       "    <tr>\n",
       "      <th>Date</th>\n",
       "      <td>0</td>\n",
       "      <td>0.0000</td>\n",
       "    </tr>\n",
       "  </tbody>\n",
       "</table>\n",
       "</div>"
      ],
      "text/plain": [
       "                        Missing values  % Missing\n",
       "Own goal Time                      116    90.6250\n",
       "Own goals                          116    90.6250\n",
       "1st Goal                            34    26.5625\n",
       "Free Kicks                           0     0.0000\n",
       "Team                                 0     0.0000\n",
       "Opponent                             0     0.0000\n",
       "Goal Scored                          0     0.0000\n",
       "Ball Possession %                    0     0.0000\n",
       "Attempts                             0     0.0000\n",
       "On-Target                            0     0.0000\n",
       "Off-Target                           0     0.0000\n",
       "Blocked                              0     0.0000\n",
       "Corners                              0     0.0000\n",
       "Offsides                             0     0.0000\n",
       "Pass Accuracy %                      0     0.0000\n",
       "Saves                                0     0.0000\n",
       "Passes                               0     0.0000\n",
       "Distance Covered (Kms)               0     0.0000\n",
       "Fouls Committed                      0     0.0000\n",
       "Yellow Card                          0     0.0000\n",
       "Yellow & Red                         0     0.0000\n",
       "Red                                  0     0.0000\n",
       "Man of the Match                     0     0.0000\n",
       "Round                                0     0.0000\n",
       "PSO                                  0     0.0000\n",
       "Goals in PSO                         0     0.0000\n",
       "Date                                 0     0.0000"
      ]
     },
     "execution_count": 8,
     "metadata": {},
     "output_type": "execute_result"
    }
   ],
   "source": [
    "missing_values = data.isnull().sum().sort_values(ascending = False)\n",
    "percentage_missing_values = (missing_values/len(data))*100\n",
    "pd.concat([missing_values, percentage_missing_values], axis = 1, keys= ['Missing values', '% Missing'])"
   ]
  },
  {
   "cell_type": "markdown",
   "metadata": {},
   "source": [
    "Her ser vi manglende data i data-settet på de ulike attributtene(imputing). Own goal time, Own Goals og 1st goal mangler data. \n",
    "Vi bestemmer oss for å fikse disse og lager nye. Man of the Match setter vi til en ny attributt motm. og bruker bolske verdiane 1 og 0. Own goals setter vi all manglende data-rader til 0. Vi lager en bolsk variabel boolFirstGoal som forteller oss hvilket lag som tok ledelsen, visst det er tilfelle. Vi lager winner-attributt, som setter laget som vant til 1, laget som tapte til 0 og visst det endte uavgjort blir den satt til 0.5(gjelder kampene som var i gruppespillet)."
   ]
  },
  {
   "cell_type": "code",
   "execution_count": 9,
   "metadata": {},
   "outputs": [],
   "source": [
    "def ManOfTheMatchConverter():\n",
    "    for x in range(0, len(data)):\n",
    "        if data.loc[x][\"Man of the Match\"] == 'No':\n",
    "            data.loc[x, 'motm'] = 0\n",
    "        else:\n",
    "            data.loc[x, 'motm'] = 1"
   ]
  },
  {
   "cell_type": "code",
   "execution_count": 10,
   "metadata": {},
   "outputs": [],
   "source": [
    "import math\n",
    "def OwnGoalsNanToZero ():\n",
    "    for x in range(0, len(data)):\n",
    "        if(math.isnan(data.loc[x][\"Own goals\"])):\n",
    "            data.loc[x, 'Own goals'] = math.floor(0)\n",
    "            \n",
    "\n"
   ]
  },
  {
   "cell_type": "code",
   "execution_count": 11,
   "metadata": {},
   "outputs": [],
   "source": [
    "def firstGoal():\n",
    "    for x in range(0, len(data)):\n",
    "        if(math.isnan(data.loc[x][\"1st Goal\"])):\n",
    "            data.loc[x, 'boolFirstGoal'] = 0\n",
    "        else:\n",
    "                data.loc[x, 'boolFirstGoal'] = 1\n",
    "            "
   ]
  },
  {
   "cell_type": "code",
   "execution_count": 12,
   "metadata": {},
   "outputs": [],
   "source": [
    "def winnerOfTheMatch():\n",
    "    for x in range(0, int(len(data)/2)):\n",
    "        index = x+x;\n",
    "        lagEnMaal = data.loc[index][\"Goal Scored\"];\n",
    "        lagToMaal = data.loc[index+1][\"Goal Scored\"];\n",
    "        \n",
    "        if(data.loc[index, 'Round'] != 'Group Stage' and data.loc[index, 'PSO'] == 'Yes'):\n",
    "            PSOEnMaal = data.loc[index][\"Goals in PSO\"];\n",
    "            PSOToMaal = data.loc[index+1][\"Goals in PSO\"];\n",
    "            \n",
    "            if(PSOEnMaal > PSOToMaal):\n",
    "                data.loc[index, 'Winner'] = 1;\n",
    "                data.loc[index+1, 'Winner'] = 0;\n",
    "            elif(PSOEnMaal < PSOToMaal):\n",
    "                data.loc[index+1, 'Winner'] = 1;\n",
    "                data.loc[index, 'Winner'] = 0;\n",
    "        else:\n",
    "            if(lagEnMaal > lagToMaal):\n",
    "                data.loc[index, 'Winner'] = 1;\n",
    "                data.loc[index+1, 'Winner'] = 0;\n",
    "            elif(lagEnMaal < lagToMaal):\n",
    "                data.loc[index+1, 'Winner'] = 1;\n",
    "                data.loc[index, 'Winner'] = 0;\n",
    "            else:\n",
    "                data.loc[index+1, 'Winner'] = 0.5;\n",
    "                data.loc[index, 'Winner'] = 0.5;\n"
   ]
  },
  {
   "cell_type": "code",
   "execution_count": 13,
   "metadata": {},
   "outputs": [],
   "source": [
    "ManOfTheMatchConverter()\n",
    "OwnGoalsNanToZero()\n",
    "firstGoal()\n",
    "winnerOfTheMatch()"
   ]
  },
  {
   "cell_type": "code",
   "execution_count": 14,
   "metadata": {},
   "outputs": [
    {
     "name": "stdout",
     "output_type": "stream",
     "text": [
      "<class 'pandas.core.frame.DataFrame'>\n",
      "RangeIndex: 128 entries, 0 to 127\n",
      "Data columns (total 30 columns):\n",
      "Date                      128 non-null object\n",
      "Team                      128 non-null object\n",
      "Opponent                  128 non-null object\n",
      "Goal Scored               128 non-null int64\n",
      "Ball Possession %         128 non-null int64\n",
      "Attempts                  128 non-null int64\n",
      "On-Target                 128 non-null int64\n",
      "Off-Target                128 non-null int64\n",
      "Blocked                   128 non-null int64\n",
      "Corners                   128 non-null int64\n",
      "Offsides                  128 non-null int64\n",
      "Free Kicks                128 non-null int64\n",
      "Saves                     128 non-null int64\n",
      "Pass Accuracy %           128 non-null int64\n",
      "Passes                    128 non-null int64\n",
      "Distance Covered (Kms)    128 non-null int64\n",
      "Fouls Committed           128 non-null int64\n",
      "Yellow Card               128 non-null int64\n",
      "Yellow & Red              128 non-null int64\n",
      "Red                       128 non-null int64\n",
      "Man of the Match          128 non-null object\n",
      "1st Goal                  94 non-null float64\n",
      "Round                     128 non-null object\n",
      "PSO                       128 non-null object\n",
      "Goals in PSO              128 non-null int64\n",
      "Own goals                 128 non-null float64\n",
      "Own goal Time             12 non-null float64\n",
      "motm                      128 non-null float64\n",
      "boolFirstGoal             128 non-null float64\n",
      "Winner                    128 non-null float64\n",
      "dtypes: float64(6), int64(18), object(6)\n",
      "memory usage: 30.1+ KB\n"
     ]
    }
   ],
   "source": [
    "data.info()"
   ]
  },
  {
   "cell_type": "markdown",
   "metadata": {},
   "source": [
    "For å visualisere dataen velger vi ut eit lite utdrag av attributtene. "
   ]
  },
  {
   "cell_type": "code",
   "execution_count": 15,
   "metadata": {},
   "outputs": [],
   "source": [
    "data_utdrag = ['Goal Scored', 'On-Target', 'Corners', 'Attempts', 'Free Kicks', 'Yellow Card', 'Fouls Committed']"
   ]
  },
  {
   "cell_type": "code",
   "execution_count": 16,
   "metadata": {
    "scrolled": true
   },
   "outputs": [
    {
     "data": {
      "image/png": "[encoded data removed]",
      "text/plain": [
       "<Figure size 1440x720 with 1 Axes>"
      ]
     },
     "metadata": {
      "needs_background": "light"
     },
     "output_type": "display_data"
    }
   ],
   "source": [
    "dummy_data = data[data_utdrag]\n",
    "plt.figure(figsize=(20,10))\n",
    "sns.boxplot(data = dummy_data)\n",
    "plt.show()"
   ]
  },
  {
   "cell_type": "markdown",
   "metadata": {},
   "source": [
    "For hver boxplot er det:\n",
    "\n",
    "    1 som ligger utenfor normalen i Goal scored\n",
    "    2 i On-Target\n",
    "    1 i corners\n",
    "    2 i Attempts\n",
    "    3 i Yellow Cards\n",
    "    i statistikk er en \"outlier\" et observasjonspunkt som ligger utenfor resten av observasjonene.\n",
    "    Et punkt utenfor normalen kan være forårsaket av varierte målinger. \n",
    "    Mengden \"outliers\" som er presentert i dette problemet er ikke veldig stort og vil nok ikke ha en stor innvirkning her selv om vi ikke gjør noe med det.\n",
    "    De er veldig få og innenfor rammen."
   ]
  },
  {
   "cell_type": "code",
   "execution_count": 17,
   "metadata": {},
   "outputs": [
    {
     "data": {
      "image/png": "[encoded data removed]",
      "text/plain": [
       "<Figure size 1440x1080 with 25 Axes>"
      ]
     },
     "metadata": {
      "needs_background": "light"
     },
     "output_type": "display_data"
    }
   ],
   "source": [
    "%matplotlib inline\n",
    "import matplotlib.pyplot as plt\n",
    "data.hist(bins=50, figsize=(20,15))\n",
    "\n",
    "plt.show()"
   ]
  },
  {
   "cell_type": "markdown",
   "metadata": {},
   "source": [
    "Ovenfor kan vi se histogrammer for de forskjellige attributtene."
   ]
  },
  {
   "cell_type": "code",
   "execution_count": 18,
   "metadata": {
    "scrolled": true
   },
   "outputs": [
    {
     "data": {
      "text/plain": [
       "<matplotlib.axes._subplots.AxesSubplot at 0x1a925f6b7f0>"
      ]
     },
     "execution_count": 18,
     "metadata": {},
     "output_type": "execute_result"
    },
    {
     "data": {
      "image/png": "[encoded data removed]",
      "text/plain": [
       "<Figure size 432x288 with 1 Axes>"
      ]
     },
     "metadata": {
      "needs_background": "light"
     },
     "output_type": "display_data"
    }
   ],
   "source": [
    "data[\"Goal Scored\"].hist()"
   ]
  },
  {
   "cell_type": "markdown",
   "metadata": {},
   "source": [
    "Her kan vi se at 0, 1 og 2 blir oftest representert i attributten Goal Scored"
   ]
  },
  {
   "cell_type": "code",
   "execution_count": 19,
   "metadata": {},
   "outputs": [],
   "source": [
    "fs_copy = data.copy() #Kopi av datasettet"
   ]
  },
  {
   "cell_type": "markdown",
   "metadata": {},
   "source": [
    "Nå skal vi se på korrelasjonen til de andre attrubuttene har til attributten motm(Man of the Match). Korrelasjonen sier oss hvordan de andre attributtene i raden samsvarer med om laget hadde motm. "
   ]
  },
  {
   "cell_type": "code",
   "execution_count": 20,
   "metadata": {},
   "outputs": [],
   "source": [
    "corr_matrix = fs_copy.corr()"
   ]
  },
  {
   "cell_type": "code",
   "execution_count": 21,
   "metadata": {},
   "outputs": [
    {
     "data": {
      "text/plain": [
       "motm                      1.000000\n",
       "Winner                    0.825895\n",
       "boolFirstGoal             0.530662\n",
       "Goal Scored               0.522193\n",
       "On-Target                 0.291346\n",
       "Attempts                  0.176425\n",
       "Corners                   0.173148\n",
       "Off-Target                0.152979\n",
       "Free Kicks                0.119534\n",
       "Ball Possession %         0.110393\n",
       "Pass Accuracy %           0.109709\n",
       "Passes                    0.101421\n",
       "Goals in PSO              0.038873\n",
       "Offsides                  0.026288\n",
       "Distance Covered (Kms)    0.015353\n",
       "1st Goal                  0.009802\n",
       "Yellow & Red              0.000000\n",
       "Blocked                  -0.019582\n",
       "Saves                    -0.034443\n",
       "Own goals                -0.107211\n",
       "Red                      -0.125988\n",
       "Fouls Committed          -0.129047\n",
       "Yellow Card              -0.147934\n",
       "Own goal Time            -0.186824\n",
       "Name: motm, dtype: float64"
      ]
     },
     "execution_count": 21,
     "metadata": {},
     "output_type": "execute_result"
    }
   ],
   "source": [
    "corr_matrix[\"motm\"].sort_values(ascending=False)"
   ]
  },
  {
   "cell_type": "markdown",
   "metadata": {},
   "source": [
    "Vi kan se ut i fra metoden corr_matrix hvilke av attributtene som har høy og lav korrelasjon til motm.\n",
    "Winner som vi lagde har helt klart høyest korrelasjon til som har motm med 82,58%.\n",
    "boolFirstGoal og Goal Scored ligger bak med rundt 50%. Ser vi derimot i andre enda av skalaen Own Goal Time, Yellow Card og Fouls Committed.\n",
    "har negativ korrelasjon til motm. Dette tilsvarer at det er negativt for motm å ha høy verdi i disse. "
   ]
  },
  {
   "cell_type": "code",
   "execution_count": 22,
   "metadata": {},
   "outputs": [
    {
     "data": {
      "text/plain": [
       "<matplotlib.axes._subplots.AxesSubplot at 0x1a9288c78d0>"
      ]
     },
     "execution_count": 22,
     "metadata": {},
     "output_type": "execute_result"
    },
    {
     "data": {
      "image/png": "[encoded data removed]",
      "text/plain": [
       "<Figure size 2160x720 with 2 Axes>"
      ]
     },
     "metadata": {
      "needs_background": "light"
     },
     "output_type": "display_data"
    }
   ],
   "source": [
    "plt.figure(figsize=(30,10))\n",
    "sns.heatmap(data[data_utdrag].corr(), square=True, annot=True,robust=True, yticklabels=1)"
   ]
  },
  {
   "cell_type": "markdown",
   "metadata": {},
   "source": [
    "Ved hjelp av heatmap, ser vi de ulike korrelasjonene mellom de forskjellige attributtene. Blant annet har attempts og on-target naturlig nok høy korrelasjon. Vi bestemmer oss for å teste ut om vi kan skape nye attributter utifra de gitte attributtene. Vi tester å lage on-target-accuracy og set pieces. "
   ]
  },
  {
   "cell_type": "code",
   "execution_count": 23,
   "metadata": {},
   "outputs": [],
   "source": [
    "fs_copy[\"On-Target-Accuracy\"] = fs_copy[\"On-Target\"]/(fs_copy[\"On-Target\"] + fs_copy[\"Off-Target\"])"
   ]
  },
  {
   "cell_type": "code",
   "execution_count": 24,
   "metadata": {},
   "outputs": [],
   "source": [
    "fs_copy[\"Set pieces\"] = fs_copy[\"Corners\"] + fs_copy[\"Free Kicks\"] "
   ]
  },
  {
   "cell_type": "code",
   "execution_count": 25,
   "metadata": {
    "scrolled": true
   },
   "outputs": [
    {
     "data": {
      "text/plain": [
       "motm                      1.000000\n",
       "Winner                    0.825895\n",
       "boolFirstGoal             0.530662\n",
       "Goal Scored               0.522193\n",
       "On-Target                 0.291346\n",
       "Set pieces                0.179617\n",
       "Attempts                  0.176425\n",
       "Corners                   0.173148\n",
       "On-Target-Accuracy        0.160375\n",
       "Off-Target                0.152979\n",
       "Free Kicks                0.119534\n",
       "Ball Possession %         0.110393\n",
       "Pass Accuracy %           0.109709\n",
       "Passes                    0.101421\n",
       "Goals in PSO              0.038873\n",
       "Offsides                  0.026288\n",
       "Distance Covered (Kms)    0.015353\n",
       "1st Goal                  0.009802\n",
       "Yellow & Red              0.000000\n",
       "Blocked                  -0.019582\n",
       "Saves                    -0.034443\n",
       "Own goals                -0.107211\n",
       "Red                      -0.125988\n",
       "Fouls Committed          -0.129047\n",
       "Yellow Card              -0.147934\n",
       "Own goal Time            -0.186824\n",
       "Name: motm, dtype: float64"
      ]
     },
     "execution_count": 25,
     "metadata": {},
     "output_type": "execute_result"
    }
   ],
   "source": [
    "corr_matrix = fs_copy.corr()\n",
    "corr_matrix[\"motm\"].sort_values(ascending=False)"
   ]
  },
  {
   "cell_type": "markdown",
   "metadata": {},
   "source": [
    "On-Target-Accuracy får en korrelasjon på 16 %, i mens Set pieces får 18%. "
   ]
  },
  {
   "cell_type": "markdown",
   "metadata": {},
   "source": [
    "# Prepare the data"
   ]
  },
  {
   "cell_type": "markdown",
   "metadata": {},
   "source": [
    "Nå skal vi klargjøre dataen til modellene. Her skal vi velge hvilke attributter vi skal bruke i modellene våre og deler inn data-settet i test-sett og treningssett. Innledningsvis tar vi ut motm frå datasettet, slik at den ikke ødelegger for modellene. "
   ]
  },
  {
   "cell_type": "code",
   "execution_count": 26,
   "metadata": {},
   "outputs": [],
   "source": [
    "motm = fs_copy['motm']"
   ]
  },
  {
   "cell_type": "markdown",
   "metadata": {},
   "source": [
    "I utgangspunktet dropper vi de attributtene som har korrelasjon rundt 0. Vi dropper også de hadde mange manglende verdier; siden et stort antall manglende data kan være vanskelig å fylle inn med meningsfull data. De attributtene som ikke har numeriske verdier(Date, round, team, opponent, PSO),\n",
    "For eksempel ryker 1st Goal, når vi har laget boolFirstGoal. For å unngå multikorrelasjon(Veldig lik data i et datasett) dropper vi også \"Yellow & Red\", \"Free Kicks\" og \"Corners\"."
   ]
  },
  {
   "cell_type": "code",
   "execution_count": 27,
   "metadata": {},
   "outputs": [],
   "source": [
    "\n",
    "fs_copy = fs_copy.drop([\"Date\", \"Team\", \"Opponent\", \"Man of the Match\", \"Round\", \"PSO\", \"1st Goal\", \"Own goal Time\", \"Yellow & Red\", \"Blocked\", \"Distance Covered (Kms)\", \"Goals in PSO\", \"Offsides\", \"Free Kicks\", \"Own goals\", \n",
    "                        \"Fouls Committed\", \"motm\", \"On-Target-Accuracy\", \"Saves\", \"Corners\", \"Passes\"], axis = 1)"
   ]
  },
  {
   "cell_type": "code",
   "execution_count": 28,
   "metadata": {},
   "outputs": [
    {
     "data": {
      "text/html": [
       "<div>\n",
       "<style scoped>\n",
       "    .dataframe tbody tr th:only-of-type {\n",
       "        vertical-align: middle;\n",
       "    }\n",
       "\n",
       "    .dataframe tbody tr th {\n",
       "        vertical-align: top;\n",
       "    }\n",
       "\n",
       "    .dataframe thead th {\n",
       "        text-align: right;\n",
       "    }\n",
       "</style>\n",
       "<table border=\"1\" class=\"dataframe\">\n",
       "  <thead>\n",
       "    <tr style=\"text-align: right;\">\n",
       "      <th></th>\n",
       "      <th>Goal Scored</th>\n",
       "      <th>Ball Possession %</th>\n",
       "      <th>Attempts</th>\n",
       "      <th>On-Target</th>\n",
       "      <th>Off-Target</th>\n",
       "      <th>Pass Accuracy %</th>\n",
       "      <th>Yellow Card</th>\n",
       "      <th>Red</th>\n",
       "      <th>boolFirstGoal</th>\n",
       "      <th>Winner</th>\n",
       "      <th>Set pieces</th>\n",
       "    </tr>\n",
       "  </thead>\n",
       "  <tbody>\n",
       "    <tr>\n",
       "      <th>0</th>\n",
       "      <td>5</td>\n",
       "      <td>40</td>\n",
       "      <td>13</td>\n",
       "      <td>7</td>\n",
       "      <td>3</td>\n",
       "      <td>78</td>\n",
       "      <td>0</td>\n",
       "      <td>0</td>\n",
       "      <td>1.0</td>\n",
       "      <td>1.0</td>\n",
       "      <td>17</td>\n",
       "    </tr>\n",
       "    <tr>\n",
       "      <th>1</th>\n",
       "      <td>0</td>\n",
       "      <td>60</td>\n",
       "      <td>6</td>\n",
       "      <td>0</td>\n",
       "      <td>3</td>\n",
       "      <td>86</td>\n",
       "      <td>0</td>\n",
       "      <td>0</td>\n",
       "      <td>0.0</td>\n",
       "      <td>0.0</td>\n",
       "      <td>27</td>\n",
       "    </tr>\n",
       "    <tr>\n",
       "      <th>2</th>\n",
       "      <td>0</td>\n",
       "      <td>43</td>\n",
       "      <td>8</td>\n",
       "      <td>3</td>\n",
       "      <td>3</td>\n",
       "      <td>78</td>\n",
       "      <td>2</td>\n",
       "      <td>0</td>\n",
       "      <td>0.0</td>\n",
       "      <td>0.0</td>\n",
       "      <td>7</td>\n",
       "    </tr>\n",
       "    <tr>\n",
       "      <th>3</th>\n",
       "      <td>1</td>\n",
       "      <td>57</td>\n",
       "      <td>14</td>\n",
       "      <td>4</td>\n",
       "      <td>6</td>\n",
       "      <td>86</td>\n",
       "      <td>0</td>\n",
       "      <td>0</td>\n",
       "      <td>1.0</td>\n",
       "      <td>1.0</td>\n",
       "      <td>18</td>\n",
       "    </tr>\n",
       "    <tr>\n",
       "      <th>4</th>\n",
       "      <td>0</td>\n",
       "      <td>64</td>\n",
       "      <td>13</td>\n",
       "      <td>3</td>\n",
       "      <td>6</td>\n",
       "      <td>86</td>\n",
       "      <td>1</td>\n",
       "      <td>0</td>\n",
       "      <td>0.0</td>\n",
       "      <td>0.0</td>\n",
       "      <td>19</td>\n",
       "    </tr>\n",
       "  </tbody>\n",
       "</table>\n",
       "</div>"
      ],
      "text/plain": [
       "   Goal Scored  Ball Possession %  Attempts  On-Target  Off-Target  \\\n",
       "0            5                 40        13          7           3   \n",
       "1            0                 60         6          0           3   \n",
       "2            0                 43         8          3           3   \n",
       "3            1                 57        14          4           6   \n",
       "4            0                 64        13          3           6   \n",
       "\n",
       "   Pass Accuracy %  Yellow Card  Red  boolFirstGoal  Winner  Set pieces  \n",
       "0               78            0    0            1.0     1.0          17  \n",
       "1               86            0    0            0.0     0.0          27  \n",
       "2               78            2    0            0.0     0.0           7  \n",
       "3               86            0    0            1.0     1.0          18  \n",
       "4               86            1    0            0.0     0.0          19  "
      ]
     },
     "execution_count": 28,
     "metadata": {},
     "output_type": "execute_result"
    }
   ],
   "source": [
    "fs_copy.head()"
   ]
  },
  {
   "cell_type": "markdown",
   "metadata": {},
   "source": [
    "Her splitter vi datasettet i to. Treningssettet har dei 85 første radene og testsettet har dei siste 42. Vi klargjør trenings- og test-settene til bruk i de ulike modellene ved å reshape de. Denne inndelingen gir oss alle gruppespillskampene i treningssettet, og sluttspillskampene i test-settet. "
   ]
  },
  {
   "cell_type": "code",
   "execution_count": 29,
   "metadata": {},
   "outputs": [],
   "source": [
    "y = motm.iloc[:85]\n",
    "x = fs_copy.iloc[:85]"
   ]
  },
  {
   "cell_type": "code",
   "execution_count": 30,
   "metadata": {},
   "outputs": [
    {
     "data": {
      "text/html": [
       "<div>\n",
       "<style scoped>\n",
       "    .dataframe tbody tr th:only-of-type {\n",
       "        vertical-align: middle;\n",
       "    }\n",
       "\n",
       "    .dataframe tbody tr th {\n",
       "        vertical-align: top;\n",
       "    }\n",
       "\n",
       "    .dataframe thead th {\n",
       "        text-align: right;\n",
       "    }\n",
       "</style>\n",
       "<table border=\"1\" class=\"dataframe\">\n",
       "  <thead>\n",
       "    <tr style=\"text-align: right;\">\n",
       "      <th></th>\n",
       "      <th>Goal Scored</th>\n",
       "      <th>Ball Possession %</th>\n",
       "      <th>Attempts</th>\n",
       "      <th>On-Target</th>\n",
       "      <th>Off-Target</th>\n",
       "      <th>Pass Accuracy %</th>\n",
       "      <th>Yellow Card</th>\n",
       "      <th>Red</th>\n",
       "      <th>boolFirstGoal</th>\n",
       "      <th>Winner</th>\n",
       "      <th>Set pieces</th>\n",
       "    </tr>\n",
       "  </thead>\n",
       "  <tbody>\n",
       "    <tr>\n",
       "      <th>0</th>\n",
       "      <td>5</td>\n",
       "      <td>40</td>\n",
       "      <td>13</td>\n",
       "      <td>7</td>\n",
       "      <td>3</td>\n",
       "      <td>78</td>\n",
       "      <td>0</td>\n",
       "      <td>0</td>\n",
       "      <td>1.0</td>\n",
       "      <td>1.0</td>\n",
       "      <td>17</td>\n",
       "    </tr>\n",
       "    <tr>\n",
       "      <th>1</th>\n",
       "      <td>0</td>\n",
       "      <td>60</td>\n",
       "      <td>6</td>\n",
       "      <td>0</td>\n",
       "      <td>3</td>\n",
       "      <td>86</td>\n",
       "      <td>0</td>\n",
       "      <td>0</td>\n",
       "      <td>0.0</td>\n",
       "      <td>0.0</td>\n",
       "      <td>27</td>\n",
       "    </tr>\n",
       "    <tr>\n",
       "      <th>2</th>\n",
       "      <td>0</td>\n",
       "      <td>43</td>\n",
       "      <td>8</td>\n",
       "      <td>3</td>\n",
       "      <td>3</td>\n",
       "      <td>78</td>\n",
       "      <td>2</td>\n",
       "      <td>0</td>\n",
       "      <td>0.0</td>\n",
       "      <td>0.0</td>\n",
       "      <td>7</td>\n",
       "    </tr>\n",
       "    <tr>\n",
       "      <th>3</th>\n",
       "      <td>1</td>\n",
       "      <td>57</td>\n",
       "      <td>14</td>\n",
       "      <td>4</td>\n",
       "      <td>6</td>\n",
       "      <td>86</td>\n",
       "      <td>0</td>\n",
       "      <td>0</td>\n",
       "      <td>1.0</td>\n",
       "      <td>1.0</td>\n",
       "      <td>18</td>\n",
       "    </tr>\n",
       "    <tr>\n",
       "      <th>4</th>\n",
       "      <td>0</td>\n",
       "      <td>64</td>\n",
       "      <td>13</td>\n",
       "      <td>3</td>\n",
       "      <td>6</td>\n",
       "      <td>86</td>\n",
       "      <td>1</td>\n",
       "      <td>0</td>\n",
       "      <td>0.0</td>\n",
       "      <td>0.0</td>\n",
       "      <td>19</td>\n",
       "    </tr>\n",
       "  </tbody>\n",
       "</table>\n",
       "</div>"
      ],
      "text/plain": [
       "   Goal Scored  Ball Possession %  Attempts  On-Target  Off-Target  \\\n",
       "0            5                 40        13          7           3   \n",
       "1            0                 60         6          0           3   \n",
       "2            0                 43         8          3           3   \n",
       "3            1                 57        14          4           6   \n",
       "4            0                 64        13          3           6   \n",
       "\n",
       "   Pass Accuracy %  Yellow Card  Red  boolFirstGoal  Winner  Set pieces  \n",
       "0               78            0    0            1.0     1.0          17  \n",
       "1               86            0    0            0.0     0.0          27  \n",
       "2               78            2    0            0.0     0.0           7  \n",
       "3               86            0    0            1.0     1.0          18  \n",
       "4               86            1    0            0.0     0.0          19  "
      ]
     },
     "execution_count": 30,
     "metadata": {},
     "output_type": "execute_result"
    }
   ],
   "source": [
    "x.head()"
   ]
  },
  {
   "cell_type": "code",
   "execution_count": 31,
   "metadata": {},
   "outputs": [
    {
     "data": {
      "text/plain": [
       "0    1.0\n",
       "1    0.0\n",
       "2    0.0\n",
       "3    1.0\n",
       "4    0.0\n",
       "Name: motm, dtype: float64"
      ]
     },
     "execution_count": 31,
     "metadata": {},
     "output_type": "execute_result"
    }
   ],
   "source": [
    "y.head()"
   ]
  },
  {
   "cell_type": "markdown",
   "metadata": {},
   "source": [
    "Dei resterande entries blir lagt til i test-settet."
   ]
  },
  {
   "cell_type": "code",
   "execution_count": 32,
   "metadata": {},
   "outputs": [],
   "source": [
    "x_test = fs_copy.iloc[85:127] \n",
    "y_test = motm[85:127]"
   ]
  },
  {
   "cell_type": "markdown",
   "metadata": {},
   "source": [
    "# Explore many different models and short-list the best ones"
   ]
  },
  {
   "cell_type": "markdown",
   "metadata": {},
   "source": [
    "Her skal vi teste de ulike modellene, og se hvor godt de treffer på å forutse hvilket lag som fikk man of the match. \n",
    "\n",
    "Vi vil bruke 3 forskjellige modeller; Decision tree, random forest og XGBOOST. Vi vil velge hvilken vi vil justere basert på resultatet av cross-validation. Vi vil også se på confusion matrix når vi skal bedømme."
   ]
  },
  {
   "cell_type": "code",
   "execution_count": 33,
   "metadata": {},
   "outputs": [],
   "source": [
    "from sklearn.metrics import accuracy_score\n",
    "from sklearn.model_selection import cross_val_score\n",
    "from sklearn.model_selection import cross_val_predict\n",
    "import itertools\n",
    "from sklearn.metrics import confusion_matrix\n",
    "from sklearn.metrics import precision_score, recall_score\n",
    "from sklearn.metrics import f1_score"
   ]
  },
  {
   "cell_type": "code",
   "execution_count": 34,
   "metadata": {},
   "outputs": [],
   "source": [
    "def plot_confusion_matrix(cm, classes, ax=None,\n",
    "                          title='Confusion matrix',\n",
    "                          cmap=plt.cm.Blues, labels=True):\n",
    "    \"\"\"\n",
    "    This function prints and plots the confusion matrix.\n",
    "    From \n",
    "    \"\"\"\n",
    "    \n",
    "    if not ax: fig, ax = plt.subplots(figsize=(8,6))\n",
    "    ax.imshow(cm, interpolation='nearest', cmap=cmap)\n",
    "    tick_marks = np.arange(len(classes))\n",
    "    plt.setp(ax, xticks=tick_marks, xticklabels=classes, \n",
    "             yticks=tick_marks, yticklabels=classes,\n",
    "             title=title, xlabel=\"Predicted label\", \n",
    "             ylabel=\"True label\")\n",
    "    #ax.set_xticks(tick_marks, classes, rotation=45)\n",
    "    #plt.yticks(tick_marks, classes)\n",
    "\n",
    "    if labels:\n",
    "        fmt = 'd'\n",
    "        thresh = cm.max() / 2.\n",
    "        for i, j in itertools.product(range(cm.shape[0]), range(cm.shape[1])):\n",
    "            ax.text(j, i, format(int(cm[i, j]), fmt),\n",
    "                     horizontalalignment=\"center\",\n",
    "                     color=\"white\" if cm[i, j] > thresh else \"black\")\n",
    "\n",
    "    plt.tight_layout()\n",
    "    return ax"
   ]
  },
  {
   "cell_type": "markdown",
   "metadata": {},
   "source": [
    "## Decision Tree"
   ]
  },
  {
   "cell_type": "markdown",
   "metadata": {},
   "source": [
    "Beslutningstre-modellen gir oss eit tre, der dei viktigaste attributtene/features kjem først. Desse attributtene blir satt til ulike parameter, og veien videre i treet blir bestemt deretter. Til slutt ender vi på en beslutning i ein av leafes; ja eller nei(1 og 0);"
   ]
  },
  {
   "cell_type": "code",
   "execution_count": 35,
   "metadata": {},
   "outputs": [],
   "source": [
    "from sklearn import tree\n",
    "from sklearn.ensemble import RandomForestRegressor, RandomForestClassifier\n",
    "\n",
    "import warnings\n",
    "warnings.filterwarnings(\"ignore\")"
   ]
  },
  {
   "cell_type": "code",
   "execution_count": 36,
   "metadata": {},
   "outputs": [],
   "source": [
    "# Decision Tree\n",
    "decision_tree = tree.DecisionTreeClassifier(random_state=21, max_depth= 3)\n",
    "decision_tree = decision_tree.fit(x, y)"
   ]
  },
  {
   "cell_type": "code",
   "execution_count": 37,
   "metadata": {},
   "outputs": [
    {
     "name": "stdout",
     "output_type": "stream",
     "text": [
      "[0.8        0.84210526 0.77777778 0.77777778 0.5       ]\n"
     ]
    }
   ],
   "source": [
    "cv_scores = cross_val_score(decision_tree, x, y, cv=5 ,scoring=\"f1\")\n",
    "print(cv_scores)"
   ]
  },
  {
   "cell_type": "code",
   "execution_count": 38,
   "metadata": {},
   "outputs": [
    {
     "data": {
      "text/plain": [
       "0.7395321637426899"
      ]
     },
     "execution_count": 38,
     "metadata": {},
     "output_type": "execute_result"
    }
   ],
   "source": [
    "cv_scores.mean()"
   ]
  },
  {
   "cell_type": "markdown",
   "metadata": {},
   "source": [
    "Cross-validation f1-score er 73.9 % ved bruk av beslutningstre-modellen med max depth på 3."
   ]
  },
  {
   "cell_type": "code",
   "execution_count": 39,
   "metadata": {},
   "outputs": [],
   "source": [
    "dc_pred = cross_val_predict(decision_tree, x, y, cv=5)"
   ]
  },
  {
   "cell_type": "code",
   "execution_count": 40,
   "metadata": {},
   "outputs": [],
   "source": [
    "dc_confusion_matrix = confusion_matrix(y, dc_pred)"
   ]
  },
  {
   "cell_type": "code",
   "execution_count": 41,
   "metadata": {},
   "outputs": [
    {
     "data": {
      "image/png": "[encoded data removed]",
      "text/plain": [
       "<Figure size 576x432 with 1 Axes>"
      ]
     },
     "metadata": {
      "needs_background": "light"
     },
     "output_type": "display_data"
    }
   ],
   "source": [
    "_ = plot_confusion_matrix(dc_confusion_matrix, classes=['non-motm', 'motm'])"
   ]
  },
  {
   "cell_type": "markdown",
   "metadata": {},
   "source": [
    "## Random Forest"
   ]
  },
  {
   "cell_type": "markdown",
   "metadata": {},
   "source": [
    "Random forest-modellen er en samling av mange små beslutnings-trær, og tar medianen når den tar den endelige beslutningen. Denne modellen hjelper på Decision-tree-modellens vane for å overfitte dataen. "
   ]
  },
  {
   "cell_type": "code",
   "execution_count": 42,
   "metadata": {},
   "outputs": [
    {
     "data": {
      "text/plain": [
       "RandomForestClassifier(bootstrap=True, class_weight=None, criterion='gini',\n",
       "            max_depth=None, max_features='auto', max_leaf_nodes=None,\n",
       "            min_impurity_decrease=0.0, min_impurity_split=None,\n",
       "            min_samples_leaf=1, min_samples_split=2,\n",
       "            min_weight_fraction_leaf=0.0, n_estimators=10, n_jobs=None,\n",
       "            oob_score=False, random_state=21, verbose=0, warm_start=False)"
      ]
     },
     "execution_count": 42,
     "metadata": {},
     "output_type": "execute_result"
    }
   ],
   "source": [
    "#Random forest\n",
    "rf = RandomForestClassifier(random_state=21)\n",
    "rf.fit(x, y)\n"
   ]
  },
  {
   "cell_type": "code",
   "execution_count": 43,
   "metadata": {},
   "outputs": [],
   "source": [
    "y_pred_forest = rf.predict(x)"
   ]
  },
  {
   "cell_type": "markdown",
   "metadata": {},
   "source": [
    "Scoren på treningssett"
   ]
  },
  {
   "cell_type": "code",
   "execution_count": 44,
   "metadata": {},
   "outputs": [
    {
     "data": {
      "text/plain": [
       "0.9529411764705882"
      ]
     },
     "execution_count": 44,
     "metadata": {},
     "output_type": "execute_result"
    }
   ],
   "source": [
    "rf.score(x, y)"
   ]
  },
  {
   "cell_type": "code",
   "execution_count": 45,
   "metadata": {},
   "outputs": [
    {
     "name": "stdout",
     "output_type": "stream",
     "text": [
      "[0.88888889 0.88888889 0.85714286 0.875      0.8       ]\n"
     ]
    }
   ],
   "source": [
    "cv_scores1 = cross_val_score(rf, x, y, cv=5 ,scoring=\"f1\")\n",
    "print(cv_scores1)"
   ]
  },
  {
   "cell_type": "code",
   "execution_count": 46,
   "metadata": {},
   "outputs": [
    {
     "data": {
      "text/plain": [
       "0.8619841269841271"
      ]
     },
     "execution_count": 46,
     "metadata": {},
     "output_type": "execute_result"
    }
   ],
   "source": [
    "cv_scores1.mean()"
   ]
  },
  {
   "cell_type": "markdown",
   "metadata": {},
   "source": [
    "86.2 % score på Cross-validation f1-score."
   ]
  },
  {
   "cell_type": "code",
   "execution_count": 47,
   "metadata": {},
   "outputs": [],
   "source": [
    "rf_pred = cross_val_predict(rf, x, y, cv=5)"
   ]
  },
  {
   "cell_type": "code",
   "execution_count": 48,
   "metadata": {},
   "outputs": [],
   "source": [
    "rf_confusion_matrix = confusion_matrix(y, rf_pred)"
   ]
  },
  {
   "cell_type": "code",
   "execution_count": 49,
   "metadata": {},
   "outputs": [
    {
     "data": {
      "image/png": "[encoded data removed]",
      "text/plain": [
       "<Figure size 576x432 with 1 Axes>"
      ]
     },
     "metadata": {
      "needs_background": "light"
     },
     "output_type": "display_data"
    }
   ],
   "source": [
    "_ = plot_confusion_matrix(rf_confusion_matrix, classes=['non-motm', 'motm'])"
   ]
  },
  {
   "cell_type": "markdown",
   "metadata": {},
   "source": [
    "## XGBoost"
   ]
  },
  {
   "cell_type": "markdown",
   "metadata": {},
   "source": [
    "XGBoost-modellen er ein ensemble-modell, som bruker ulike svakere modeller og gjør de til strong learners ilag. Disse legges lag på lag. Den prøver å forbedre seg helt til et visst satt punkt."
   ]
  },
  {
   "cell_type": "code",
   "execution_count": 50,
   "metadata": {},
   "outputs": [],
   "source": [
    "import xgboost"
   ]
  },
  {
   "cell_type": "code",
   "execution_count": 51,
   "metadata": {},
   "outputs": [],
   "source": [
    "from sklearn.model_selection import cross_val_score"
   ]
  },
  {
   "cell_type": "code",
   "execution_count": 52,
   "metadata": {},
   "outputs": [],
   "source": [
    "xgb = xgboost.XGBClassifier(max_depth=3, n_estimators=20, learning_rate=0.05, random_state=21)"
   ]
  },
  {
   "cell_type": "code",
   "execution_count": 53,
   "metadata": {},
   "outputs": [
    {
     "data": {
      "text/plain": [
       "XGBClassifier(base_score=0.5, booster='gbtree', colsample_bylevel=1,\n",
       "       colsample_bytree=1, gamma=0, learning_rate=0.05, max_delta_step=0,\n",
       "       max_depth=3, min_child_weight=1, missing=None, n_estimators=20,\n",
       "       n_jobs=1, nthread=None, objective='binary:logistic',\n",
       "       random_state=21, reg_alpha=0, reg_lambda=1, scale_pos_weight=1,\n",
       "       seed=None, silent=True, subsample=1)"
      ]
     },
     "execution_count": 53,
     "metadata": {},
     "output_type": "execute_result"
    }
   ],
   "source": [
    "xgb.fit(x,y)"
   ]
  },
  {
   "cell_type": "code",
   "execution_count": 54,
   "metadata": {},
   "outputs": [
    {
     "data": {
      "text/plain": [
       "0.8941176470588236"
      ]
     },
     "execution_count": 54,
     "metadata": {},
     "output_type": "execute_result"
    }
   ],
   "source": [
    "xgb.score(x,y)"
   ]
  },
  {
   "cell_type": "code",
   "execution_count": 55,
   "metadata": {},
   "outputs": [
    {
     "name": "stdout",
     "output_type": "stream",
     "text": [
      "[0.84210526 0.88888889 0.94117647 0.75       0.8       ]\n"
     ]
    }
   ],
   "source": [
    "cv_scores3 = cross_val_score(xgb, x, y, cv=5 ,scoring=\"f1\")\n",
    "print(cv_scores3)"
   ]
  },
  {
   "cell_type": "code",
   "execution_count": 56,
   "metadata": {},
   "outputs": [
    {
     "data": {
      "text/plain": [
       "0.8444341245270037"
      ]
     },
     "execution_count": 56,
     "metadata": {},
     "output_type": "execute_result"
    }
   ],
   "source": [
    "cv_scores3.mean()"
   ]
  },
  {
   "cell_type": "markdown",
   "metadata": {},
   "source": [
    "84.4 % cross-validation f1-score. "
   ]
  },
  {
   "cell_type": "code",
   "execution_count": 57,
   "metadata": {},
   "outputs": [],
   "source": [
    "xgb_pred = cross_val_predict(xgb, x, y, cv=5)"
   ]
  },
  {
   "cell_type": "code",
   "execution_count": 58,
   "metadata": {},
   "outputs": [],
   "source": [
    "xgb_cm = confusion_matrix(y, xgb_pred)"
   ]
  },
  {
   "cell_type": "code",
   "execution_count": 59,
   "metadata": {},
   "outputs": [
    {
     "data": {
      "image/png": "[encoded data removed]",
      "text/plain": [
       "<Figure size 576x432 with 1 Axes>"
      ]
     },
     "metadata": {
      "needs_background": "light"
     },
     "output_type": "display_data"
    }
   ],
   "source": [
    "_ = plot_confusion_matrix(xgb_cm, classes=['non-motm', 'motm'])"
   ]
  },
  {
   "cell_type": "markdown",
   "metadata": {},
   "source": [
    "# Fine-Tune Your Models and combine them into a great solution"
   ]
  },
  {
   "cell_type": "markdown",
   "metadata": {},
   "source": [
    "Nå skal vi finjustere modellene. Vi baserer valget vårt på Cross-Valdidation-f1scoren og confusion matrix. Vi velger dermed Random Forest og XGBoost-modellene med videre for å justere. En måte er å justere hver enkelt hyperparameter manuelt. Vi skal derimot se på GridSearch når vi skal justere Random forest-modellen, som hjelper oss med å finne de beste innstillingene til hyperparametera. "
   ]
  },
  {
   "cell_type": "markdown",
   "metadata": {},
   "source": [
    "## Random Forest tuning"
   ]
  },
  {
   "cell_type": "code",
   "execution_count": 60,
   "metadata": {},
   "outputs": [],
   "source": [
    "from sklearn.model_selection import GridSearchCV\n",
    "param_grid = {\n",
    "    'bootstrap': [True, False],\n",
    "    'min_samples_leaf': [1, 2, 3],\n",
    "    'min_samples_split': [ 4, 6, 8, 10],\n",
    "    'n_estimators': [ 10, 15, 20, 50],\n",
    "    'max_depth' : [2,3,4,5]\n",
    "}"
   ]
  },
  {
   "cell_type": "markdown",
   "metadata": {},
   "source": [
    "Etter prøving og feiling har vi funnet ut at disse 4 hyperparameterene har størst innvirkning på resultatet og velger dermed disse hyperparameterene for kryss-validering. \n",
    "På gridsearch-klassifiseringen har vi satt cv = 5 fold. Dette ga det beste resultatet.  "
   ]
  },
  {
   "cell_type": "code",
   "execution_count": 61,
   "metadata": {},
   "outputs": [],
   "source": [
    "grid_search = GridSearchCV(estimator = rf, param_grid = param_grid, \n",
    "                          cv = 5, n_jobs = -1, verbose = 2, scoring='f1')"
   ]
  },
  {
   "cell_type": "code",
   "execution_count": 62,
   "metadata": {},
   "outputs": [
    {
     "name": "stdout",
     "output_type": "stream",
     "text": [
      "Fitting 5 folds for each of 384 candidates, totalling 1920 fits\n"
     ]
    },
    {
     "name": "stderr",
     "output_type": "stream",
     "text": [
      "[Parallel(n_jobs=-1)]: Using backend LokyBackend with 8 concurrent workers.\n",
      "[Parallel(n_jobs=-1)]: Done  25 tasks      | elapsed:    2.1s\n",
      "[Parallel(n_jobs=-1)]: Done 146 tasks      | elapsed:    3.9s\n",
      "[Parallel(n_jobs=-1)]: Done 349 tasks      | elapsed:    7.1s\n",
      "[Parallel(n_jobs=-1)]: Done 632 tasks      | elapsed:   11.5s\n",
      "[Parallel(n_jobs=-1)]: Done 997 tasks      | elapsed:   17.2s\n",
      "[Parallel(n_jobs=-1)]: Done 1442 tasks      | elapsed:   24.1s\n",
      "[Parallel(n_jobs=-1)]: Done 1920 out of 1920 | elapsed:   31.6s finished\n"
     ]
    },
    {
     "data": {
      "text/plain": [
       "GridSearchCV(cv=5, error_score='raise-deprecating',\n",
       "       estimator=RandomForestClassifier(bootstrap=True, class_weight=None, criterion='gini',\n",
       "            max_depth=None, max_features='auto', max_leaf_nodes=None,\n",
       "            min_impurity_decrease=0.0, min_impurity_split=None,\n",
       "            min_samples_leaf=1, min_samples_split=2,\n",
       "            min_weight_fraction_leaf=0.0, n_estimators=10, n_jobs=None,\n",
       "            oob_score=False, random_state=21, verbose=0, warm_start=False),\n",
       "       fit_params=None, iid='warn', n_jobs=-1,\n",
       "       param_grid={'bootstrap': [True, False], 'min_samples_leaf': [1, 2, 3], 'min_samples_split': [4, 6, 8, 10], 'n_estimators': [10, 15, 20, 50], 'max_depth': [2, 3, 4, 5]},\n",
       "       pre_dispatch='2*n_jobs', refit=True, return_train_score='warn',\n",
       "       scoring='f1', verbose=2)"
      ]
     },
     "execution_count": 62,
     "metadata": {},
     "output_type": "execute_result"
    }
   ],
   "source": [
    "grid_search.fit(x, y)"
   ]
  },
  {
   "cell_type": "code",
   "execution_count": 63,
   "metadata": {},
   "outputs": [
    {
     "data": {
      "text/plain": [
       "{'bootstrap': True,\n",
       " 'max_depth': 5,\n",
       " 'min_samples_leaf': 1,\n",
       " 'min_samples_split': 4,\n",
       " 'n_estimators': 10}"
      ]
     },
     "execution_count": 63,
     "metadata": {},
     "output_type": "execute_result"
    }
   ],
   "source": [
    "grid_search.best_params_"
   ]
  },
  {
   "cell_type": "code",
   "execution_count": 64,
   "metadata": {},
   "outputs": [],
   "source": [
    "rf2 = RandomForestClassifier(\n",
    "    bootstrap = True,\n",
    "     min_samples_leaf= 1,\n",
    " min_samples_split=5,\n",
    " n_estimators= 10,\n",
    "    max_depth=5,\n",
    "   random_state=21\n",
    ") \n"
   ]
  },
  {
   "cell_type": "code",
   "execution_count": 65,
   "metadata": {},
   "outputs": [
    {
     "data": {
      "text/plain": [
       "RandomForestClassifier(bootstrap=True, class_weight=None, criterion='gini',\n",
       "            max_depth=5, max_features='auto', max_leaf_nodes=None,\n",
       "            min_impurity_decrease=0.0, min_impurity_split=None,\n",
       "            min_samples_leaf=1, min_samples_split=5,\n",
       "            min_weight_fraction_leaf=0.0, n_estimators=10, n_jobs=None,\n",
       "            oob_score=False, random_state=21, verbose=0, warm_start=False)"
      ]
     },
     "execution_count": 65,
     "metadata": {},
     "output_type": "execute_result"
    }
   ],
   "source": [
    "rf2.fit(x,y)"
   ]
  },
  {
   "cell_type": "markdown",
   "metadata": {},
   "source": [
    "best_params gir oss våre forbedrede hyperparameter, som fører til en forbedring på ca 2 %."
   ]
  },
  {
   "cell_type": "code",
   "execution_count": 66,
   "metadata": {},
   "outputs": [
    {
     "name": "stdout",
     "output_type": "stream",
     "text": [
      "[0.84210526 0.88888889 0.94117647 0.875      0.8       ]\n"
     ]
    }
   ],
   "source": [
    "cv_scores4 = cross_val_score(rf2, x, y, cv=5, scoring=\"f1\")\n",
    "print(cv_scores4)"
   ]
  },
  {
   "cell_type": "code",
   "execution_count": 67,
   "metadata": {},
   "outputs": [
    {
     "data": {
      "text/plain": [
       "0.8694341245270036"
      ]
     },
     "execution_count": 67,
     "metadata": {},
     "output_type": "execute_result"
    }
   ],
   "source": [
    "cv_scores4.mean()"
   ]
  },
  {
   "cell_type": "markdown",
   "metadata": {},
   "source": [
    "86.9% cross val-f1-score. 0.7 % bedre enn før tuning."
   ]
  },
  {
   "cell_type": "code",
   "execution_count": 68,
   "metadata": {},
   "outputs": [
    {
     "data": {
      "text/plain": [
       "0.9285714285714286"
      ]
     },
     "execution_count": 68,
     "metadata": {},
     "output_type": "execute_result"
    }
   ],
   "source": [
    "rf2.score(x_test, y_test)"
   ]
  },
  {
   "cell_type": "markdown",
   "metadata": {},
   "source": [
    "Vi tester den ferdige Random Forest-modellen vår på testsettet. Dette gir en score på accuracy score på 92.85%. Denne vil vi sammenligne med XGBoost sin."
   ]
  },
  {
   "cell_type": "code",
   "execution_count": 69,
   "metadata": {},
   "outputs": [],
   "source": [
    "rf_pred3 = rf2.predict(x_test)"
   ]
  },
  {
   "cell_type": "code",
   "execution_count": 70,
   "metadata": {},
   "outputs": [],
   "source": [
    "rf_confusion_matrix3 = confusion_matrix(y_test, rf_pred3)"
   ]
  },
  {
   "cell_type": "code",
   "execution_count": 71,
   "metadata": {},
   "outputs": [
    {
     "data": {
      "image/png": "[encoded data removed]",
      "text/plain": [
       "<Figure size 576x432 with 1 Axes>"
      ]
     },
     "metadata": {
      "needs_background": "light"
     },
     "output_type": "display_data"
    }
   ],
   "source": [
    "_ = plot_confusion_matrix(rf_confusion_matrix3, classes=['non-motm', 'motm'])"
   ]
  },
  {
   "cell_type": "code",
   "execution_count": 72,
   "metadata": {},
   "outputs": [
    {
     "data": {
      "text/plain": [
       "0.88"
      ]
     },
     "execution_count": 72,
     "metadata": {},
     "output_type": "execute_result"
    }
   ],
   "source": [
    "precision_score(y_test, rf_pred3)"
   ]
  },
  {
   "cell_type": "code",
   "execution_count": 73,
   "metadata": {},
   "outputs": [
    {
     "data": {
      "text/plain": [
       "1.0"
      ]
     },
     "execution_count": 73,
     "metadata": {},
     "output_type": "execute_result"
    }
   ],
   "source": [
    "recall_score(y_test, rf_pred3)"
   ]
  },
  {
   "cell_type": "code",
   "execution_count": 74,
   "metadata": {},
   "outputs": [
    {
     "data": {
      "text/plain": [
       "0.9361702127659575"
      ]
     },
     "execution_count": 74,
     "metadata": {},
     "output_type": "execute_result"
    }
   ],
   "source": [
    "f1_score(y_test, rf_pred3)"
   ]
  },
  {
   "cell_type": "markdown",
   "metadata": {},
   "source": [
    " ## XGBoost tuning"
   ]
  },
  {
   "cell_type": "markdown",
   "metadata": {},
   "source": [
    "Vi velger å bruke randomized search cross-validation for å finne de beste parameterne til XGBoost-modellen."
   ]
  },
  {
   "cell_type": "code",
   "execution_count": 75,
   "metadata": {},
   "outputs": [],
   "source": [
    "from xgboost import plot_importance"
   ]
  },
  {
   "cell_type": "code",
   "execution_count": 76,
   "metadata": {},
   "outputs": [
    {
     "data": {
      "text/plain": [
       "<matplotlib.axes._subplots.AxesSubplot at 0x1a927d1dfd0>"
      ]
     },
     "execution_count": 76,
     "metadata": {},
     "output_type": "execute_result"
    },
    {
     "data": {
      "image/png": "[encoded data removed]",
      "text/plain": [
       "<Figure size 1440x504 with 1 Axes>"
      ]
     },
     "metadata": {
      "needs_background": "light"
     },
     "output_type": "display_data"
    }
   ],
   "source": [
    "fig, ax = plt.subplots(figsize=(20, 7))\n",
    "plot_importance(xgb, ax=ax, height=0.3)"
   ]
  },
  {
   "cell_type": "markdown",
   "metadata": {},
   "source": [
    "Feature importance forteller oss hvilke attributter som har hatt størst påvirkning på modellen. I vår modell topper Off-Target, Winner vår nye attributt Set pieces. \n",
    "Goal Scored, boolfirstgoal og red kommer ikke opp.  "
   ]
  },
  {
   "cell_type": "code",
   "execution_count": 77,
   "metadata": {},
   "outputs": [
    {
     "data": {
      "text/html": [
       "<div>\n",
       "<style scoped>\n",
       "    .dataframe tbody tr th:only-of-type {\n",
       "        vertical-align: middle;\n",
       "    }\n",
       "\n",
       "    .dataframe tbody tr th {\n",
       "        vertical-align: top;\n",
       "    }\n",
       "\n",
       "    .dataframe thead th {\n",
       "        text-align: right;\n",
       "    }\n",
       "</style>\n",
       "<table border=\"1\" class=\"dataframe\">\n",
       "  <thead>\n",
       "    <tr style=\"text-align: right;\">\n",
       "      <th></th>\n",
       "      <th>Goal Scored</th>\n",
       "      <th>Ball Possession %</th>\n",
       "      <th>Attempts</th>\n",
       "      <th>On-Target</th>\n",
       "      <th>Off-Target</th>\n",
       "      <th>Pass Accuracy %</th>\n",
       "      <th>Yellow Card</th>\n",
       "      <th>Red</th>\n",
       "      <th>boolFirstGoal</th>\n",
       "      <th>Winner</th>\n",
       "      <th>Set pieces</th>\n",
       "    </tr>\n",
       "  </thead>\n",
       "  <tbody>\n",
       "    <tr>\n",
       "      <th>0</th>\n",
       "      <td>5</td>\n",
       "      <td>40</td>\n",
       "      <td>13</td>\n",
       "      <td>7</td>\n",
       "      <td>3</td>\n",
       "      <td>78</td>\n",
       "      <td>0</td>\n",
       "      <td>0</td>\n",
       "      <td>1.0</td>\n",
       "      <td>1.0</td>\n",
       "      <td>17</td>\n",
       "    </tr>\n",
       "    <tr>\n",
       "      <th>1</th>\n",
       "      <td>0</td>\n",
       "      <td>60</td>\n",
       "      <td>6</td>\n",
       "      <td>0</td>\n",
       "      <td>3</td>\n",
       "      <td>86</td>\n",
       "      <td>0</td>\n",
       "      <td>0</td>\n",
       "      <td>0.0</td>\n",
       "      <td>0.0</td>\n",
       "      <td>27</td>\n",
       "    </tr>\n",
       "    <tr>\n",
       "      <th>2</th>\n",
       "      <td>0</td>\n",
       "      <td>43</td>\n",
       "      <td>8</td>\n",
       "      <td>3</td>\n",
       "      <td>3</td>\n",
       "      <td>78</td>\n",
       "      <td>2</td>\n",
       "      <td>0</td>\n",
       "      <td>0.0</td>\n",
       "      <td>0.0</td>\n",
       "      <td>7</td>\n",
       "    </tr>\n",
       "    <tr>\n",
       "      <th>3</th>\n",
       "      <td>1</td>\n",
       "      <td>57</td>\n",
       "      <td>14</td>\n",
       "      <td>4</td>\n",
       "      <td>6</td>\n",
       "      <td>86</td>\n",
       "      <td>0</td>\n",
       "      <td>0</td>\n",
       "      <td>1.0</td>\n",
       "      <td>1.0</td>\n",
       "      <td>18</td>\n",
       "    </tr>\n",
       "    <tr>\n",
       "      <th>4</th>\n",
       "      <td>0</td>\n",
       "      <td>64</td>\n",
       "      <td>13</td>\n",
       "      <td>3</td>\n",
       "      <td>6</td>\n",
       "      <td>86</td>\n",
       "      <td>1</td>\n",
       "      <td>0</td>\n",
       "      <td>0.0</td>\n",
       "      <td>0.0</td>\n",
       "      <td>19</td>\n",
       "    </tr>\n",
       "  </tbody>\n",
       "</table>\n",
       "</div>"
      ],
      "text/plain": [
       "   Goal Scored  Ball Possession %  Attempts  On-Target  Off-Target  \\\n",
       "0            5                 40        13          7           3   \n",
       "1            0                 60         6          0           3   \n",
       "2            0                 43         8          3           3   \n",
       "3            1                 57        14          4           6   \n",
       "4            0                 64        13          3           6   \n",
       "\n",
       "   Pass Accuracy %  Yellow Card  Red  boolFirstGoal  Winner  Set pieces  \n",
       "0               78            0    0            1.0     1.0          17  \n",
       "1               86            0    0            0.0     0.0          27  \n",
       "2               78            2    0            0.0     0.0           7  \n",
       "3               86            0    0            1.0     1.0          18  \n",
       "4               86            1    0            0.0     0.0          19  "
      ]
     },
     "execution_count": 77,
     "metadata": {},
     "output_type": "execute_result"
    }
   ],
   "source": [
    "fs_copy.head()"
   ]
  },
  {
   "cell_type": "code",
   "execution_count": 78,
   "metadata": {},
   "outputs": [],
   "source": [
    "from sklearn.model_selection import RandomizedSearchCV, GridSearchCV\n",
    "from sklearn.metrics import roc_auc_score\n",
    "from sklearn.model_selection import StratifiedKFold\n",
    "from xgboost import XGBClassifier"
   ]
  },
  {
   "cell_type": "code",
   "execution_count": 79,
   "metadata": {},
   "outputs": [],
   "source": [
    "params = {\n",
    "        'min_child_weight': [1, 5, 10],\n",
    "        'gamma': [0.5, 1, 1.5, 2, 5],\n",
    "        'subsample': [0.6, 0.8, 1.0],\n",
    "        'colsample_bytree': [0.6, 0.8, 1.0],\n",
    "        'max_depth': [3, 4, 5],\n",
    "        'n_estimators': [10, 20, 50, 100, 200, 500],\n",
    "        'learning_rate': [0.05, 0.1, 0.15, 0.2]\n",
    "        }"
   ]
  },
  {
   "cell_type": "code",
   "execution_count": 80,
   "metadata": {},
   "outputs": [],
   "source": [
    "xgb3 = XGBClassifier(learning_rate=0.02, n_estimators=600, objective='binary:logistic',\n",
    "                    silent=True, nthread=1)"
   ]
  },
  {
   "cell_type": "code",
   "execution_count": 81,
   "metadata": {},
   "outputs": [
    {
     "name": "stdout",
     "output_type": "stream",
     "text": [
      "Fitting 5 folds for each of 100 candidates, totalling 500 fits\n"
     ]
    },
    {
     "name": "stderr",
     "output_type": "stream",
     "text": [
      "[Parallel(n_jobs=4)]: Using backend LokyBackend with 4 concurrent workers.\n",
      "[Parallel(n_jobs=4)]: Done 216 tasks      | elapsed:    0.8s\n",
      "[Parallel(n_jobs=4)]: Done 500 out of 500 | elapsed:    1.6s finished\n"
     ]
    },
    {
     "data": {
      "text/plain": [
       "RandomizedSearchCV(cv=<generator object _BaseKFold.split at 0x000001A9268918B8>,\n",
       "          error_score='raise-deprecating',\n",
       "          estimator=XGBClassifier(base_score=0.5, booster='gbtree', colsample_bylevel=1,\n",
       "       colsample_bytree=1, gamma=0, learning_rate=0.02, max_delta_step=0,\n",
       "       max_depth=3, min_child_weight=1, missing=None, n_estimators=600,\n",
       "       n_jobs=1, nthread=1, objective='binary:logistic', random_state=0,\n",
       "       reg_alpha=0, reg_lambda=1, scale_pos_weight=1, seed=None,\n",
       "       silent=True, subsample=1),\n",
       "          fit_params=None, iid='warn', n_iter=100, n_jobs=4,\n",
       "          param_distributions={'min_child_weight': [1, 5, 10], 'gamma': [0.5, 1, 1.5, 2, 5], 'subsample': [0.6, 0.8, 1.0], 'colsample_bytree': [0.6, 0.8, 1.0], 'max_depth': [3, 4, 5], 'n_estimators': [10, 20, 50, 100, 200, 500], 'learning_rate': [0.05, 0.1, 0.15, 0.2]},\n",
       "          pre_dispatch='2*n_jobs', random_state=1001, refit=True,\n",
       "          return_train_score='warn', scoring='f1', verbose=3)"
      ]
     },
     "execution_count": 81,
     "metadata": {},
     "output_type": "execute_result"
    }
   ],
   "source": [
    "folds = 5\n",
    "param_comb = 100\n",
    "\n",
    "skf = StratifiedKFold(n_splits=folds, shuffle = True, random_state = 21)\n",
    "\n",
    "random_search = RandomizedSearchCV(xgb3, param_distributions=params, n_iter=param_comb, scoring='f1', n_jobs=4, cv=skf.split(x,y), verbose=3, random_state=1001 )\n",
    "\n",
    "random_search.fit(x, y)\n"
   ]
  },
  {
   "cell_type": "code",
   "execution_count": 82,
   "metadata": {},
   "outputs": [
    {
     "data": {
      "text/plain": [
       "{'subsample': 1.0,\n",
       " 'n_estimators': 100,\n",
       " 'min_child_weight': 5,\n",
       " 'max_depth': 4,\n",
       " 'learning_rate': 0.15,\n",
       " 'gamma': 1.5,\n",
       " 'colsample_bytree': 0.6}"
      ]
     },
     "execution_count": 82,
     "metadata": {},
     "output_type": "execute_result"
    }
   ],
   "source": [
    "random_search.best_params_"
   ]
  },
  {
   "cell_type": "code",
   "execution_count": 83,
   "metadata": {},
   "outputs": [],
   "source": [
    "xgb_final = xgboost.XGBClassifier(max_depth=4, \n",
    "                             n_estimators=100, \n",
    "                             learning_rate=0.15, \n",
    "                             min_child_weight=5,\n",
    "                             gamma=1.5,\n",
    "                            max_delta_step = 0,\n",
    "                            subsample = 1,\n",
    "                            colsample_bytree =0.6,\n",
    "                            alpha =0,\n",
    "                            scale_pos_weight= 1,\n",
    "                            objective= 'binary:logistic',\n",
    "                            )"
   ]
  },
  {
   "cell_type": "code",
   "execution_count": 84,
   "metadata": {},
   "outputs": [
    {
     "data": {
      "text/plain": [
       "XGBClassifier(alpha=0, base_score=0.5, booster='gbtree', colsample_bylevel=1,\n",
       "       colsample_bytree=0.6, gamma=1.5, learning_rate=0.15,\n",
       "       max_delta_step=0, max_depth=4, min_child_weight=5, missing=None,\n",
       "       n_estimators=100, n_jobs=1, nthread=None,\n",
       "       objective='binary:logistic', random_state=0, reg_alpha=0,\n",
       "       reg_lambda=1, scale_pos_weight=1, seed=None, silent=True,\n",
       "       subsample=1)"
      ]
     },
     "execution_count": 84,
     "metadata": {},
     "output_type": "execute_result"
    }
   ],
   "source": [
    "xgb_final.fit(x,y)"
   ]
  },
  {
   "cell_type": "code",
   "execution_count": 85,
   "metadata": {},
   "outputs": [
    {
     "name": "stdout",
     "output_type": "stream",
     "text": [
      "[0.88888889 0.88888889 0.94117647 0.875      0.71428571]\n"
     ]
    }
   ],
   "source": [
    "cv_scores6 = cross_val_score(xgb_final, x, y, cv=5, scoring=\"f1\")\n",
    "print(cv_scores6)"
   ]
  },
  {
   "cell_type": "code",
   "execution_count": 86,
   "metadata": {},
   "outputs": [
    {
     "data": {
      "text/plain": [
       "0.8616479925303455"
      ]
     },
     "execution_count": 86,
     "metadata": {},
     "output_type": "execute_result"
    }
   ],
   "source": [
    "cv_scores6.mean()"
   ]
  },
  {
   "cell_type": "code",
   "execution_count": 87,
   "metadata": {},
   "outputs": [
    {
     "data": {
      "text/plain": [
       "0.9761904761904762"
      ]
     },
     "execution_count": 87,
     "metadata": {},
     "output_type": "execute_result"
    }
   ],
   "source": [
    "xgb_final.score(x_test, y_test)"
   ]
  },
  {
   "cell_type": "markdown",
   "metadata": {},
   "source": [
    "86.2 % cross-validation f1-score og 97.6 % accuracy score på test-settet."
   ]
  },
  {
   "cell_type": "code",
   "execution_count": 88,
   "metadata": {},
   "outputs": [],
   "source": [
    "test_predict = xgb_final.predict(x_test)"
   ]
  },
  {
   "cell_type": "code",
   "execution_count": 89,
   "metadata": {},
   "outputs": [],
   "source": [
    "xgb_cm3 = confusion_matrix(y_test, test_predict)"
   ]
  },
  {
   "cell_type": "code",
   "execution_count": 90,
   "metadata": {},
   "outputs": [
    {
     "data": {
      "image/png": "[encoded data removed]",
      "text/plain": [
       "<Figure size 576x432 with 1 Axes>"
      ]
     },
     "metadata": {
      "needs_background": "light"
     },
     "output_type": "display_data"
    }
   ],
   "source": [
    "_ = plot_confusion_matrix(xgb_cm3, classes=['non-motm', 'motm'])"
   ]
  },
  {
   "cell_type": "code",
   "execution_count": 91,
   "metadata": {},
   "outputs": [
    {
     "data": {
      "text/plain": [
       "0.9565217391304348"
      ]
     },
     "execution_count": 91,
     "metadata": {},
     "output_type": "execute_result"
    }
   ],
   "source": [
    "precision_score(y_test, test_predict)"
   ]
  },
  {
   "cell_type": "code",
   "execution_count": 92,
   "metadata": {},
   "outputs": [
    {
     "data": {
      "text/plain": [
       "1.0"
      ]
     },
     "execution_count": 92,
     "metadata": {},
     "output_type": "execute_result"
    }
   ],
   "source": [
    "recall_score(y_test, test_predict)"
   ]
  },
  {
   "cell_type": "code",
   "execution_count": 93,
   "metadata": {},
   "outputs": [
    {
     "data": {
      "text/plain": [
       "0.9777777777777777"
      ]
     },
     "execution_count": 93,
     "metadata": {},
     "output_type": "execute_result"
    }
   ],
   "source": [
    "f1_score(y_test, test_predict)"
   ]
  },
  {
   "cell_type": "markdown",
   "metadata": {},
   "source": [
    "# Present your solution"
   ]
  },
  {
   "cell_type": "markdown",
   "metadata": {},
   "source": [
    "Etter å ha sett hvordan de to forskjellige modellene (random forest og xgboost) presterer både før og etter tuningen ender vi opp med å bruke xgboost-modellen. Cv-f1-scoren er tilnærma lik mellom Random Forest og XGBoost(0.6% favør Random Forest). XGBoost presterer derimot bedre på test-settet. \n",
    "Vi kan se ovenfor at xgboost har en 97.7% f1-score på test-settet. Random forest fikk vi 93.6% f1-score.\n",
    "\n",
    "\n",
    "Målet vårt med dette prosjektet er å skape en god model som generaliserer godt utifra treningsdataen. Problemet med dette datasettet er at det er såpass lite at modellene ikke får nok trening. Testsett er også såpass lite(42 rader) at resultatet vårt kan være usikkert. Det kan gi lite meningsfulle estimat. Ideelt sett hadde vi hatt et større datasett.\n",
    "\n",
    "Med et så lite datasett er det også stor mulighet for overfitting. \n",
    "\n",
    "Treningssettet vårt består bare i gruppespillskamper, dermed vil attributten 'Winner' sette uavgjort-kampene til 0.5. Dette kan medføre at denne attributten forstyrrer modellen når det kommer til testsettet og videre bruk av modellen. Vi burde kanskje brukt split-train-test metoden for å dele inn i trening- og testsett."
   ]
  },
  {
   "cell_type": "markdown",
   "metadata": {},
   "source": [
    "# Extra Material"
   ]
  },
  {
   "cell_type": "markdown",
   "metadata": {},
   "source": [
    "## _!Viktig!_\n",
    "For at denne neste datavisualiseringen skal vises må plotly være instalert ----> ($ pip install plotly) <----\n",
    "(instalerses via pip)\n",
    "i tillegg må ploty versionen være over: 1.9.4+ \n",
    "Test version med: \n",
    "\n",
    "import plotly\n",
    "\n",
    "plotly.__ _version_ __\n",
    "\n",
    "output: 'Din-versjon-her'\n",
    "\n",
    "Oppdater plotly med:\n",
    "_pip install plotly --upgrade_\n"
   ]
  },
  {
   "cell_type": "code",
   "execution_count": 94,
   "metadata": {},
   "outputs": [],
   "source": [
    "# Navn på attributtene\n",
    "\n",
    "labels=np.array(['Goal Scored', 'Attempts', 'Corners', 'Offsides', 'Free Kicks', 'Saves', 'Fouls Committed', 'Yellow Card'])\n",
    "\n",
    "# Radar data for finalen, \"France vs Croatia\"\n",
    "matchData1=data.loc[126,labels].values\n",
    "matchData2=data.loc[127,labels].values"
   ]
  },
  {
   "cell_type": "code",
   "execution_count": 95,
   "metadata": {},
   "outputs": [
    {
     "data": {
      "text/html": [
       "<script type=\"text/javascript\">window.PlotlyConfig = {MathJaxConfig: 'local'};</script><script type=\"text/javascript\">if (window.MathJax) {MathJax.Hub.Config({SVG: {font: \"STIX-Web\"}});}</script><script>requirejs.config({paths: { 'plotly': ['https://cdn.plot.ly/plotly-latest.min']},});if(!window._Plotly) {require(['plotly'],function(plotly) {window._Plotly=plotly;});}</script>"
      ],
      "text/vnd.plotly.v1+html": [
       "<script type=\"text/javascript\">window.PlotlyConfig = {MathJaxConfig: 'local'};</script><script type=\"text/javascript\">if (window.MathJax) {MathJax.Hub.Config({SVG: {font: \"STIX-Web\"}});}</script><script>requirejs.config({paths: { 'plotly': ['https://cdn.plot.ly/plotly-latest.min']},});if(!window._Plotly) {require(['plotly'],function(plotly) {window._Plotly=plotly;});}</script>"
      ]
     },
     "metadata": {},
     "output_type": "display_data"
    },
    {
     "data": {
      "application/vnd.plotly.v1+json": {
       "data": [
        {
         "fill": "toself",
         "mode": "lines",
         "name": "France",
         "r": [
          4,
          8,
          2,
          1,
          14,
          1,
          14,
          2
         ],
         "theta": [
          "Goal Scored",
          "Attempts",
          "Corners",
          "Offsides",
          "Free Kicks",
          "Saves",
          "Fouls Committed",
          "Yellow Card"
         ],
         "type": "scatterpolar",
         "uid": "af3831c9-d027-46cb-909b-d6235bbfcb71"
        },
        {
         "fill": "toself",
         "mode": "lines",
         "name": "Croatia",
         "r": [
          2,
          15,
          6,
          1,
          15,
          3,
          13,
          1
         ],
         "theta": [
          "Goal Scored",
          "Attempts",
          "Corners",
          "Offsides",
          "Free Kicks",
          "Saves",
          "Fouls Committed",
          "Yellow Card"
         ],
         "type": "scatterpolar",
         "uid": "9b363248-a21f-4f44-abfd-58add94e0ede"
        }
       ],
       "layout": {
        "polar": {
         "radialaxis": {
          "range": [
           0,
           20
          ],
          "visible": true
         }
        },
        "showlegend": true,
        "title": "Finale: France vs Croatia"
       }
      },
      "text/html": [
       "<div id=\"e6f5351d-875f-47ff-a9e0-bf441ca1785e\" style=\"height: 525px; width: 100%;\" class=\"plotly-graph-div\"></div><script type=\"text/javascript\">require([\"plotly\"], function(Plotly) { window.PLOTLYENV=window.PLOTLYENV || {};window.PLOTLYENV.BASE_URL=\"https://plot.ly\";Plotly.newPlot(\"e6f5351d-875f-47ff-a9e0-bf441ca1785e\", [{\"fill\": \"toself\", \"mode\": \"lines\", \"name\": \"France\", \"r\": [4, 8, 2, 1, 14, 1, 14, 2], \"theta\": [\"Goal Scored\", \"Attempts\", \"Corners\", \"Offsides\", \"Free Kicks\", \"Saves\", \"Fouls Committed\", \"Yellow Card\"], \"type\": \"scatterpolar\", \"uid\": \"af3831c9-d027-46cb-909b-d6235bbfcb71\"}, {\"fill\": \"toself\", \"mode\": \"lines\", \"name\": \"Croatia\", \"r\": [2, 15, 6, 1, 15, 3, 13, 1], \"theta\": [\"Goal Scored\", \"Attempts\", \"Corners\", \"Offsides\", \"Free Kicks\", \"Saves\", \"Fouls Committed\", \"Yellow Card\"], \"type\": \"scatterpolar\", \"uid\": \"9b363248-a21f-4f44-abfd-58add94e0ede\"}], {\"polar\": {\"radialaxis\": {\"range\": [0, 20], \"visible\": true}}, \"showlegend\": true, \"title\": \"Finale: France vs Croatia\"}, {\"showLink\": true, \"linkText\": \"Export to plot.ly\"})});</script><script type=\"text/javascript\">window.addEventListener(\"resize\", function(){window._Plotly.Plots.resize(document.getElementById(\"e6f5351d-875f-47ff-a9e0-bf441ca1785e\"));});</script>"
      ],
      "text/vnd.plotly.v1+html": [
       "<div id=\"e6f5351d-875f-47ff-a9e0-bf441ca1785e\" style=\"height: 525px; width: 100%;\" class=\"plotly-graph-div\"></div><script type=\"text/javascript\">require([\"plotly\"], function(Plotly) { window.PLOTLYENV=window.PLOTLYENV || {};window.PLOTLYENV.BASE_URL=\"https://plot.ly\";Plotly.newPlot(\"e6f5351d-875f-47ff-a9e0-bf441ca1785e\", [{\"fill\": \"toself\", \"mode\": \"lines\", \"name\": \"France\", \"r\": [4, 8, 2, 1, 14, 1, 14, 2], \"theta\": [\"Goal Scored\", \"Attempts\", \"Corners\", \"Offsides\", \"Free Kicks\", \"Saves\", \"Fouls Committed\", \"Yellow Card\"], \"type\": \"scatterpolar\", \"uid\": \"af3831c9-d027-46cb-909b-d6235bbfcb71\"}, {\"fill\": \"toself\", \"mode\": \"lines\", \"name\": \"Croatia\", \"r\": [2, 15, 6, 1, 15, 3, 13, 1], \"theta\": [\"Goal Scored\", \"Attempts\", \"Corners\", \"Offsides\", \"Free Kicks\", \"Saves\", \"Fouls Committed\", \"Yellow Card\"], \"type\": \"scatterpolar\", \"uid\": \"9b363248-a21f-4f44-abfd-58add94e0ede\"}], {\"polar\": {\"radialaxis\": {\"range\": [0, 20], \"visible\": true}}, \"showlegend\": true, \"title\": \"Finale: France vs Croatia\"}, {\"showLink\": true, \"linkText\": \"Export to plot.ly\"})});</script><script type=\"text/javascript\">window.addEventListener(\"resize\", function(){window._Plotly.Plots.resize(document.getElementById(\"e6f5351d-875f-47ff-a9e0-bf441ca1785e\"));});</script>"
      ]
     },
     "metadata": {},
     "output_type": "display_data"
    }
   ],
   "source": [
    "import plotly.graph_objs as go\n",
    "import plotly\n",
    "plotly.offline.init_notebook_mode(connected=True)\n",
    "\n",
    "def radar_chart(matchData1,matchData2,name = \"\", name1 = \"\"):\n",
    "    data = [go.Scatterpolar(r = matchData1,theta = labels,mode = 'lines',fill = 'toself',name = name),\n",
    "        go.Scatterpolar(r = matchData2,theta = labels,mode = 'lines',fill = 'toself',name = name1)]\n",
    "    layout = go.Layout(title =\"Finale: \" + name +\" vs \"+name1,polar = dict(radialaxis = dict(visible = True,range = [0, 20])),showlegend = True)\n",
    "    fig = go.Figure(data=data, layout=layout)\n",
    "    return plotly.offline.iplot(fig)\n",
    "\n",
    "radar_chart(matchData1,matchData2,name=\"France\", name1=\"Croatia\")\n"
   ]
  },
  {
   "cell_type": "code",
   "execution_count": 96,
   "metadata": {},
   "outputs": [
    {
     "data": {
      "text/plain": [
       "1.0"
      ]
     },
     "execution_count": 96,
     "metadata": {},
     "output_type": "execute_result"
    }
   ],
   "source": [
    "motmFinal = xgb_final.predict(x_test)\n",
    "motmFinal[41] #Croatia"
   ]
  },
  {
   "cell_type": "markdown",
   "metadata": {},
   "source": [
    "Modellen vår anslår at Kroatia får Man of the Match i finalen. Dette er ikke så rart når en ser på radar_charten overfor. Dette er derimot en av feiltagelsene modellen vår gjør i test-settet."
   ]
  },
  {
   "cell_type": "markdown",
   "metadata": {},
   "source": [
    "## Kilder"
   ]
  },
  {
   "cell_type": "markdown",
   "metadata": {},
   "source": [
    "Vi har brukt nettsiden der vi lastet ned datasettet, hvor vi har sett på andre sine notebooks. Både for inspirasjon og litt hjelp på veien(Kaggle.com). \n",
    "\n",
    "https://www.kaggle.com/ragnisah/eda-fifa2018-man-of-the-match-prediction6\n",
    "\n",
    "https://www.kaggle.com/mathvv/seaborn-tutorial-and-fifa2018-mom-prediction\n",
    "\n",
    "https://www.kaggle.com/ashishpatel26/plotly-graph-for-fifa-2018-man-of-the-match"
   ]
  }
 ],
 "metadata": {
  "kernelspec": {
   "display_name": "DAT158",
   "language": "python",
   "name": "dat158"
  },
  "language_info": {
   "codemirror_mode": {
    "name": "ipython",
    "version": 3
   },
   "file_extension": ".py",
   "mimetype": "text/x-python",
   "name": "python",
   "nbconvert_exporter": "python",
   "pygments_lexer": "ipython3",
   "version": "3.7.1"
  }
 },
 "nbformat": 4,
 "nbformat_minor": 2
}
